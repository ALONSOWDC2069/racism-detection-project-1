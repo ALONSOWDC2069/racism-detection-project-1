{
 "cells": [
  {
   "cell_type": "code",
   "execution_count": 1,
   "metadata": {
    "execution": {
     "iopub.execute_input": "2021-08-10T07:25:48.850166Z",
     "iopub.status.busy": "2021-08-10T07:25:48.849741Z",
     "iopub.status.idle": "2021-08-10T07:26:02.057406Z",
     "shell.execute_reply": "2021-08-10T07:26:02.056396Z",
     "shell.execute_reply.started": "2021-08-10T07:25:48.850083Z"
    }
   },
   "outputs": [
    {
     "name": "stdout",
     "output_type": "stream",
     "text": [
      "Requirement already satisfied: bert-for-tf2 in c:\\users\\tru projects\\appdata\\roaming\\python\\python38\\site-packages (0.14.9)\n",
      "Requirement already satisfied: py-params>=0.9.6 in c:\\users\\tru projects\\appdata\\roaming\\python\\python38\\site-packages (from bert-for-tf2) (0.10.2)\n",
      "Requirement already satisfied: params-flow>=0.8.0 in c:\\users\\tru projects\\appdata\\roaming\\python\\python38\\site-packages (from bert-for-tf2) (0.8.2)\n",
      "Requirement already satisfied: tqdm in c:\\users\\public\\anaconda3\\lib\\site-packages (from params-flow>=0.8.0->bert-for-tf2) (4.64.0)\n",
      "Requirement already satisfied: numpy in c:\\users\\public\\anaconda3\\lib\\site-packages (from params-flow>=0.8.0->bert-for-tf2) (1.18.5)\n",
      "Requirement already satisfied: colorama in c:\\users\\public\\anaconda3\\lib\\site-packages (from tqdm->params-flow>=0.8.0->bert-for-tf2) (0.4.4)\n"
     ]
    }
   ],
   "source": [
    "!pip install bert-for-tf2"
   ]
  },
  {
   "cell_type": "code",
   "execution_count": 2,
   "metadata": {
    "execution": {
     "iopub.execute_input": "2021-08-10T07:26:02.059517Z",
     "iopub.status.busy": "2021-08-10T07:26:02.059192Z",
     "iopub.status.idle": "2021-08-10T07:26:02.904752Z",
     "shell.execute_reply": "2021-08-10T07:26:02.903914Z",
     "shell.execute_reply.started": "2021-08-10T07:26:02.059478Z"
    }
   },
   "outputs": [],
   "source": [
    "import pandas as pd\n",
    "import numpy as np\n",
    "import json\n",
    "import re\n",
    "import os\n",
    "import matplotlib.pyplot as plt\n",
    "from tqdm import tqdm\n",
    "from sklearn.metrics import accuracy_score, f1_score, recall_score, precision_score, confusion_matrix, roc_auc_score"
   ]
  },
  {
   "cell_type": "code",
   "execution_count": 3,
   "metadata": {
    "execution": {
     "iopub.execute_input": "2021-08-10T07:26:02.908622Z",
     "iopub.status.busy": "2021-08-10T07:26:02.908348Z",
     "iopub.status.idle": "2021-08-10T07:26:08.596202Z",
     "shell.execute_reply": "2021-08-10T07:26:08.595304Z",
     "shell.execute_reply.started": "2021-08-10T07:26:02.908594Z"
    }
   },
   "outputs": [],
   "source": [
    "import tensorflow as tf\n",
    "import transformers\n",
    "import bert \n",
    "from bert import BertModelLayer\n",
    "from bert.loader import StockBertConfig, map_stock_config_to_params, load_stock_weights\n",
    "from bert.tokenization.bert_tokenization import FullTokenizer \n",
    "from tensorflow import keras\n",
    "from tensorflow.keras.layers import *\n",
    "from tensorflow.keras.models import Model,Sequential\n",
    "from keras.optimizers import Adam\n",
    "from keras.utils.vis_utils import plot_model\n",
    "from keras.callbacks import ModelCheckpoint"
   ]
  },
  {
   "cell_type": "markdown",
   "metadata": {},
   "source": [
    "## Load Dataset"
   ]
  },
  {
   "cell_type": "code",
   "execution_count": 4,
   "metadata": {
    "execution": {
     "iopub.execute_input": "2021-08-10T07:26:08.598204Z",
     "iopub.status.busy": "2021-08-10T07:26:08.597861Z",
     "iopub.status.idle": "2021-08-10T07:26:10.266708Z",
     "shell.execute_reply": "2021-08-10T07:26:10.265788Z",
     "shell.execute_reply.started": "2021-08-10T07:26:08.598168Z"
    }
   },
   "outputs": [],
   "source": [
    "df_train = pd.read_csv('train.csv')\n",
    "df_val = pd.read_csv('train.csv')\n",
    "df_test = pd.read_csv('train.csv')"
   ]
  },
  {
   "cell_type": "code",
   "execution_count": 5,
   "metadata": {
    "execution": {
     "iopub.execute_input": "2021-08-10T07:26:10.268634Z",
     "iopub.status.busy": "2021-08-10T07:26:10.268245Z",
     "iopub.status.idle": "2021-08-10T07:26:10.319505Z",
     "shell.execute_reply": "2021-08-10T07:26:10.318526Z",
     "shell.execute_reply.started": "2021-08-10T07:26:10.268591Z"
    }
   },
   "outputs": [
    {
     "name": "stdout",
     "output_type": "stream",
     "text": [
      "<class 'pandas.core.frame.DataFrame'>\n",
      "RangeIndex: 31962 entries, 0 to 31961\n",
      "Data columns (total 3 columns):\n",
      " #   Column  Non-Null Count  Dtype \n",
      "---  ------  --------------  ----- \n",
      " 0   id      31962 non-null  int64 \n",
      " 1   label   31962 non-null  int64 \n",
      " 2   tweet   31962 non-null  object\n",
      "dtypes: int64(2), object(1)\n",
      "memory usage: 749.2+ KB\n",
      "None\n"
     ]
    },
    {
     "data": {
      "text/html": [
       "<div>\n",
       "<style scoped>\n",
       "    .dataframe tbody tr th:only-of-type {\n",
       "        vertical-align: middle;\n",
       "    }\n",
       "\n",
       "    .dataframe tbody tr th {\n",
       "        vertical-align: top;\n",
       "    }\n",
       "\n",
       "    .dataframe thead th {\n",
       "        text-align: right;\n",
       "    }\n",
       "</style>\n",
       "<table border=\"1\" class=\"dataframe\">\n",
       "  <thead>\n",
       "    <tr style=\"text-align: right;\">\n",
       "      <th></th>\n",
       "      <th>id</th>\n",
       "      <th>label</th>\n",
       "      <th>tweet</th>\n",
       "    </tr>\n",
       "  </thead>\n",
       "  <tbody>\n",
       "    <tr>\n",
       "      <th>0</th>\n",
       "      <td>1</td>\n",
       "      <td>0</td>\n",
       "      <td>@user when a father is dysfunctional and is s...</td>\n",
       "    </tr>\n",
       "    <tr>\n",
       "      <th>1</th>\n",
       "      <td>2</td>\n",
       "      <td>0</td>\n",
       "      <td>@user @user thanks for #lyft credit i can't us...</td>\n",
       "    </tr>\n",
       "    <tr>\n",
       "      <th>2</th>\n",
       "      <td>3</td>\n",
       "      <td>0</td>\n",
       "      <td>bihday your majesty</td>\n",
       "    </tr>\n",
       "    <tr>\n",
       "      <th>3</th>\n",
       "      <td>4</td>\n",
       "      <td>0</td>\n",
       "      <td>#model   i love u take with u all the time in ...</td>\n",
       "    </tr>\n",
       "    <tr>\n",
       "      <th>4</th>\n",
       "      <td>5</td>\n",
       "      <td>0</td>\n",
       "      <td>factsguide: society now    #motivation</td>\n",
       "    </tr>\n",
       "    <tr>\n",
       "      <th>...</th>\n",
       "      <td>...</td>\n",
       "      <td>...</td>\n",
       "      <td>...</td>\n",
       "    </tr>\n",
       "    <tr>\n",
       "      <th>31957</th>\n",
       "      <td>31958</td>\n",
       "      <td>0</td>\n",
       "      <td>ate @user isz that youuu?ðððððð...</td>\n",
       "    </tr>\n",
       "    <tr>\n",
       "      <th>31958</th>\n",
       "      <td>31959</td>\n",
       "      <td>0</td>\n",
       "      <td>to see nina turner on the airwaves trying to...</td>\n",
       "    </tr>\n",
       "    <tr>\n",
       "      <th>31959</th>\n",
       "      <td>31960</td>\n",
       "      <td>0</td>\n",
       "      <td>listening to sad songs on a monday morning otw...</td>\n",
       "    </tr>\n",
       "    <tr>\n",
       "      <th>31960</th>\n",
       "      <td>31961</td>\n",
       "      <td>1</td>\n",
       "      <td>@user #sikh #temple vandalised in in #calgary,...</td>\n",
       "    </tr>\n",
       "    <tr>\n",
       "      <th>31961</th>\n",
       "      <td>31962</td>\n",
       "      <td>0</td>\n",
       "      <td>thank you @user for you follow</td>\n",
       "    </tr>\n",
       "  </tbody>\n",
       "</table>\n",
       "<p>31962 rows × 3 columns</p>\n",
       "</div>"
      ],
      "text/plain": [
       "          id  label                                              tweet\n",
       "0          1      0   @user when a father is dysfunctional and is s...\n",
       "1          2      0  @user @user thanks for #lyft credit i can't us...\n",
       "2          3      0                                bihday your majesty\n",
       "3          4      0  #model   i love u take with u all the time in ...\n",
       "4          5      0             factsguide: society now    #motivation\n",
       "...      ...    ...                                                ...\n",
       "31957  31958      0  ate @user isz that youuu?ðððððð...\n",
       "31958  31959      0    to see nina turner on the airwaves trying to...\n",
       "31959  31960      0  listening to sad songs on a monday morning otw...\n",
       "31960  31961      1  @user #sikh #temple vandalised in in #calgary,...\n",
       "31961  31962      0                   thank you @user for you follow  \n",
       "\n",
       "[31962 rows x 3 columns]"
      ]
     },
     "execution_count": 5,
     "metadata": {},
     "output_type": "execute_result"
    }
   ],
   "source": [
    "print(df_train.info())\n",
    "df_train"
   ]
  },
  {
   "cell_type": "code",
   "execution_count": 6,
   "metadata": {
    "execution": {
     "iopub.execute_input": "2021-08-10T07:26:10.321261Z",
     "iopub.status.busy": "2021-08-10T07:26:10.320872Z",
     "iopub.status.idle": "2021-08-10T07:26:10.348267Z",
     "shell.execute_reply": "2021-08-10T07:26:10.347315Z",
     "shell.execute_reply.started": "2021-08-10T07:26:10.321212Z"
    }
   },
   "outputs": [
    {
     "name": "stdout",
     "output_type": "stream",
     "text": [
      "<class 'pandas.core.frame.DataFrame'>\n",
      "RangeIndex: 31962 entries, 0 to 31961\n",
      "Data columns (total 3 columns):\n",
      " #   Column  Non-Null Count  Dtype \n",
      "---  ------  --------------  ----- \n",
      " 0   id      31962 non-null  int64 \n",
      " 1   label   31962 non-null  int64 \n",
      " 2   tweet   31962 non-null  object\n",
      "dtypes: int64(2), object(1)\n",
      "memory usage: 749.2+ KB\n",
      "None\n"
     ]
    },
    {
     "data": {
      "text/html": [
       "<div>\n",
       "<style scoped>\n",
       "    .dataframe tbody tr th:only-of-type {\n",
       "        vertical-align: middle;\n",
       "    }\n",
       "\n",
       "    .dataframe tbody tr th {\n",
       "        vertical-align: top;\n",
       "    }\n",
       "\n",
       "    .dataframe thead th {\n",
       "        text-align: right;\n",
       "    }\n",
       "</style>\n",
       "<table border=\"1\" class=\"dataframe\">\n",
       "  <thead>\n",
       "    <tr style=\"text-align: right;\">\n",
       "      <th></th>\n",
       "      <th>id</th>\n",
       "      <th>label</th>\n",
       "      <th>tweet</th>\n",
       "    </tr>\n",
       "  </thead>\n",
       "  <tbody>\n",
       "    <tr>\n",
       "      <th>0</th>\n",
       "      <td>1</td>\n",
       "      <td>0</td>\n",
       "      <td>@user when a father is dysfunctional and is s...</td>\n",
       "    </tr>\n",
       "    <tr>\n",
       "      <th>1</th>\n",
       "      <td>2</td>\n",
       "      <td>0</td>\n",
       "      <td>@user @user thanks for #lyft credit i can't us...</td>\n",
       "    </tr>\n",
       "    <tr>\n",
       "      <th>2</th>\n",
       "      <td>3</td>\n",
       "      <td>0</td>\n",
       "      <td>bihday your majesty</td>\n",
       "    </tr>\n",
       "    <tr>\n",
       "      <th>3</th>\n",
       "      <td>4</td>\n",
       "      <td>0</td>\n",
       "      <td>#model   i love u take with u all the time in ...</td>\n",
       "    </tr>\n",
       "    <tr>\n",
       "      <th>4</th>\n",
       "      <td>5</td>\n",
       "      <td>0</td>\n",
       "      <td>factsguide: society now    #motivation</td>\n",
       "    </tr>\n",
       "    <tr>\n",
       "      <th>...</th>\n",
       "      <td>...</td>\n",
       "      <td>...</td>\n",
       "      <td>...</td>\n",
       "    </tr>\n",
       "    <tr>\n",
       "      <th>31957</th>\n",
       "      <td>31958</td>\n",
       "      <td>0</td>\n",
       "      <td>ate @user isz that youuu?ðððððð...</td>\n",
       "    </tr>\n",
       "    <tr>\n",
       "      <th>31958</th>\n",
       "      <td>31959</td>\n",
       "      <td>0</td>\n",
       "      <td>to see nina turner on the airwaves trying to...</td>\n",
       "    </tr>\n",
       "    <tr>\n",
       "      <th>31959</th>\n",
       "      <td>31960</td>\n",
       "      <td>0</td>\n",
       "      <td>listening to sad songs on a monday morning otw...</td>\n",
       "    </tr>\n",
       "    <tr>\n",
       "      <th>31960</th>\n",
       "      <td>31961</td>\n",
       "      <td>1</td>\n",
       "      <td>@user #sikh #temple vandalised in in #calgary,...</td>\n",
       "    </tr>\n",
       "    <tr>\n",
       "      <th>31961</th>\n",
       "      <td>31962</td>\n",
       "      <td>0</td>\n",
       "      <td>thank you @user for you follow</td>\n",
       "    </tr>\n",
       "  </tbody>\n",
       "</table>\n",
       "<p>31962 rows × 3 columns</p>\n",
       "</div>"
      ],
      "text/plain": [
       "          id  label                                              tweet\n",
       "0          1      0   @user when a father is dysfunctional and is s...\n",
       "1          2      0  @user @user thanks for #lyft credit i can't us...\n",
       "2          3      0                                bihday your majesty\n",
       "3          4      0  #model   i love u take with u all the time in ...\n",
       "4          5      0             factsguide: society now    #motivation\n",
       "...      ...    ...                                                ...\n",
       "31957  31958      0  ate @user isz that youuu?ðððððð...\n",
       "31958  31959      0    to see nina turner on the airwaves trying to...\n",
       "31959  31960      0  listening to sad songs on a monday morning otw...\n",
       "31960  31961      1  @user #sikh #temple vandalised in in #calgary,...\n",
       "31961  31962      0                   thank you @user for you follow  \n",
       "\n",
       "[31962 rows x 3 columns]"
      ]
     },
     "execution_count": 6,
     "metadata": {},
     "output_type": "execute_result"
    }
   ],
   "source": [
    "print(df_val.info())\n",
    "df_val"
   ]
  },
  {
   "cell_type": "code",
   "execution_count": 7,
   "metadata": {},
   "outputs": [
    {
     "data": {
      "text/plain": [
       "<AxesSubplot:xlabel='label', ylabel='count'>"
      ]
     },
     "execution_count": 7,
     "metadata": {},
     "output_type": "execute_result"
    },
    {
     "data": {
      "image/png": "[encoded data removed]",
      "text/plain": [
       "<Figure size 432x288 with 1 Axes>"
      ]
     },
     "metadata": {
      "needs_background": "light"
     },
     "output_type": "display_data"
    }
   ],
   "source": [
    "import seaborn as sns\n",
    "sns.countplot(x=\"label\", data = df_train)"
   ]
  },
  {
   "cell_type": "code",
   "execution_count": 8,
   "metadata": {
    "execution": {
     "iopub.execute_input": "2021-08-10T07:26:10.350427Z",
     "iopub.status.busy": "2021-08-10T07:26:10.349817Z",
     "iopub.status.idle": "2021-08-10T07:26:10.381411Z",
     "shell.execute_reply": "2021-08-10T07:26:10.380365Z",
     "shell.execute_reply.started": "2021-08-10T07:26:10.350380Z"
    }
   },
   "outputs": [
    {
     "name": "stdout",
     "output_type": "stream",
     "text": [
      "<class 'pandas.core.frame.DataFrame'>\n",
      "RangeIndex: 31962 entries, 0 to 31961\n",
      "Data columns (total 3 columns):\n",
      " #   Column  Non-Null Count  Dtype \n",
      "---  ------  --------------  ----- \n",
      " 0   id      31962 non-null  int64 \n",
      " 1   label   31962 non-null  int64 \n",
      " 2   tweet   31962 non-null  object\n",
      "dtypes: int64(2), object(1)\n",
      "memory usage: 749.2+ KB\n",
      "None\n"
     ]
    },
    {
     "data": {
      "text/html": [
       "<div>\n",
       "<style scoped>\n",
       "    .dataframe tbody tr th:only-of-type {\n",
       "        vertical-align: middle;\n",
       "    }\n",
       "\n",
       "    .dataframe tbody tr th {\n",
       "        vertical-align: top;\n",
       "    }\n",
       "\n",
       "    .dataframe thead th {\n",
       "        text-align: right;\n",
       "    }\n",
       "</style>\n",
       "<table border=\"1\" class=\"dataframe\">\n",
       "  <thead>\n",
       "    <tr style=\"text-align: right;\">\n",
       "      <th></th>\n",
       "      <th>id</th>\n",
       "      <th>label</th>\n",
       "      <th>tweet</th>\n",
       "    </tr>\n",
       "  </thead>\n",
       "  <tbody>\n",
       "    <tr>\n",
       "      <th>0</th>\n",
       "      <td>1</td>\n",
       "      <td>0</td>\n",
       "      <td>@user when a father is dysfunctional and is s...</td>\n",
       "    </tr>\n",
       "    <tr>\n",
       "      <th>1</th>\n",
       "      <td>2</td>\n",
       "      <td>0</td>\n",
       "      <td>@user @user thanks for #lyft credit i can't us...</td>\n",
       "    </tr>\n",
       "    <tr>\n",
       "      <th>2</th>\n",
       "      <td>3</td>\n",
       "      <td>0</td>\n",
       "      <td>bihday your majesty</td>\n",
       "    </tr>\n",
       "    <tr>\n",
       "      <th>3</th>\n",
       "      <td>4</td>\n",
       "      <td>0</td>\n",
       "      <td>#model   i love u take with u all the time in ...</td>\n",
       "    </tr>\n",
       "    <tr>\n",
       "      <th>4</th>\n",
       "      <td>5</td>\n",
       "      <td>0</td>\n",
       "      <td>factsguide: society now    #motivation</td>\n",
       "    </tr>\n",
       "    <tr>\n",
       "      <th>...</th>\n",
       "      <td>...</td>\n",
       "      <td>...</td>\n",
       "      <td>...</td>\n",
       "    </tr>\n",
       "    <tr>\n",
       "      <th>31957</th>\n",
       "      <td>31958</td>\n",
       "      <td>0</td>\n",
       "      <td>ate @user isz that youuu?ðððððð...</td>\n",
       "    </tr>\n",
       "    <tr>\n",
       "      <th>31958</th>\n",
       "      <td>31959</td>\n",
       "      <td>0</td>\n",
       "      <td>to see nina turner on the airwaves trying to...</td>\n",
       "    </tr>\n",
       "    <tr>\n",
       "      <th>31959</th>\n",
       "      <td>31960</td>\n",
       "      <td>0</td>\n",
       "      <td>listening to sad songs on a monday morning otw...</td>\n",
       "    </tr>\n",
       "    <tr>\n",
       "      <th>31960</th>\n",
       "      <td>31961</td>\n",
       "      <td>1</td>\n",
       "      <td>@user #sikh #temple vandalised in in #calgary,...</td>\n",
       "    </tr>\n",
       "    <tr>\n",
       "      <th>31961</th>\n",
       "      <td>31962</td>\n",
       "      <td>0</td>\n",
       "      <td>thank you @user for you follow</td>\n",
       "    </tr>\n",
       "  </tbody>\n",
       "</table>\n",
       "<p>31962 rows × 3 columns</p>\n",
       "</div>"
      ],
      "text/plain": [
       "          id  label                                              tweet\n",
       "0          1      0   @user when a father is dysfunctional and is s...\n",
       "1          2      0  @user @user thanks for #lyft credit i can't us...\n",
       "2          3      0                                bihday your majesty\n",
       "3          4      0  #model   i love u take with u all the time in ...\n",
       "4          5      0             factsguide: society now    #motivation\n",
       "...      ...    ...                                                ...\n",
       "31957  31958      0  ate @user isz that youuu?ðððððð...\n",
       "31958  31959      0    to see nina turner on the airwaves trying to...\n",
       "31959  31960      0  listening to sad songs on a monday morning otw...\n",
       "31960  31961      1  @user #sikh #temple vandalised in in #calgary,...\n",
       "31961  31962      0                   thank you @user for you follow  \n",
       "\n",
       "[31962 rows x 3 columns]"
      ]
     },
     "execution_count": 8,
     "metadata": {},
     "output_type": "execute_result"
    }
   ],
   "source": [
    "print(df_test.info())\n",
    "df_test"
   ]
  },
  {
   "cell_type": "markdown",
   "metadata": {},
   "source": [
    "## Metrics"
   ]
  },
  {
   "cell_type": "code",
   "execution_count": 9,
   "metadata": {
    "execution": {
     "iopub.execute_input": "2021-08-10T07:26:10.386178Z",
     "iopub.status.busy": "2021-08-10T07:26:10.385737Z",
     "iopub.status.idle": "2021-08-10T07:26:10.393931Z",
     "shell.execute_reply": "2021-08-10T07:26:10.392336Z",
     "shell.execute_reply.started": "2021-08-10T07:26:10.386142Z"
    }
   },
   "outputs": [],
   "source": [
    "def get_metrics(y_test, y_pred_proba):\n",
    "    print('ACCURACY_SCORE: ', round(accuracy_score(y_test, y_pred_proba >= 0.5), 4))\n",
    "    print('F1_SCORE: ', round(f1_score(y_test, y_pred_proba >= 0.5, average = \"macro\"), 4))\n",
    "    print('ROC_AUC_SCORE: ', round(roc_auc_score(y_test, y_pred_proba), 4))\n",
    "    print('CONFUSION_MATRIX:\\n', confusion_matrix(y_test, y_pred_proba >= 0.5),'\\n')"
   ]
  },
  {
   "cell_type": "code",
   "execution_count": 10,
   "metadata": {
    "execution": {
     "iopub.execute_input": "2021-08-10T07:26:10.397065Z",
     "iopub.status.busy": "2021-08-10T07:26:10.396248Z",
     "iopub.status.idle": "2021-08-10T07:26:20.195952Z",
     "shell.execute_reply": "2021-08-10T07:26:20.194943Z",
     "shell.execute_reply.started": "2021-08-10T07:26:10.397026Z"
    }
   },
   "outputs": [],
   "source": [
    "#Removes Punctuations\n",
    "def remove_punctuations(data):\n",
    "    punct_tag=re.compile(r'[^\\w\\s]')\n",
    "    data=punct_tag.sub(r'',data)\n",
    "    return data\n",
    "\n",
    "#Removes HTML syntaxes\n",
    "def remove_html(data):\n",
    "    html_tag=re.compile(r'<.*?>')\n",
    "    data=html_tag.sub(r'',data)\n",
    "    return data\n",
    "\n",
    "#Removes URL data\n",
    "def remove_url(data):\n",
    "    url_clean= re.compile(r\"https://\\S+|www\\.\\S+\")\n",
    "    data=url_clean.sub(r'',data)\n",
    "    return data\n",
    "\n",
    "#Removes Emojis\n",
    "def remove_emoji(data):\n",
    "    emoji_clean= re.compile(\"[\"\n",
    "                           u\"\\U0001F600-\\U0001F64F\"  # emoticons\n",
    "                           u\"\\U0001F300-\\U0001F5FF\"  # symbols & pictographs\n",
    "                           u\"\\U0001F680-\\U0001F6FF\"  # transport & map symbols\n",
    "                           u\"\\U0001F1E0-\\U0001F1FF\"  # flags (iOS)\n",
    "                           u\"\\U00002702-\\U000027B0\"\n",
    "                           u\"\\U000024C2-\\U0001F251\"\n",
    "                           \"]+\", flags=re.UNICODE)\n",
    "    data=emoji_clean.sub(r'',data)\n",
    "    url_clean= re.compile(r\"https://\\S+|www\\.\\S+\")\n",
    "    data=url_clean.sub(r'',data)\n",
    "    return data\n",
    "\n",
    "df_train['tweet'] = df_train['tweet'].apply(lambda z: remove_punctuations(z))\n",
    "df_train['tweet'] = df_train['tweet'].apply(lambda z: remove_html(z))\n",
    "df_train['tweet'] = df_train['tweet'].apply(lambda z: remove_url(z))\n",
    "df_train['tweet'] = df_train['tweet'].apply(lambda z: remove_emoji(z))\n",
    "\n",
    "df_val['tweet'] = df_val['tweet'].apply(lambda z: remove_punctuations(z))\n",
    "df_val['tweet'] = df_val['tweet'].apply(lambda z: remove_html(z))\n",
    "df_val['tweet'] = df_val['tweet'].apply(lambda z: remove_url(z))\n",
    "df_val['tweet'] = df_val['tweet'].apply(lambda z: remove_emoji(z))\n",
    "\n",
    "df_test['tweet'] = df_test['tweet'].apply(lambda z: remove_punctuations(z))\n",
    "df_test['tweet'] = df_test['tweet'].apply(lambda z: remove_html(z))\n",
    "df_test['tweet'] = df_test['tweet'].apply(lambda z: remove_url(z))\n",
    "df_test['tweet'] = df_test['tweet'].apply(lambda z: remove_emoji(z))"
   ]
  },
  {
   "cell_type": "code",
   "execution_count": 11,
   "metadata": {
    "execution": {
     "iopub.execute_input": "2021-08-10T07:26:20.198062Z",
     "iopub.status.busy": "2021-08-10T07:26:20.197659Z",
     "iopub.status.idle": "2021-08-10T07:26:29.894639Z",
     "shell.execute_reply": "2021-08-10T07:26:29.893810Z",
     "shell.execute_reply.started": "2021-08-10T07:26:20.198019Z"
    }
   },
   "outputs": [],
   "source": [
    "def remove_abb(data):\n",
    "    data = re.sub(r\"he's\", \"he is\", data)\n",
    "    data = re.sub(r\"there's\", \"there is\", data)\n",
    "    data = re.sub(r\"We're\", \"We are\", data)\n",
    "    data = re.sub(r\"That's\", \"That is\", data)\n",
    "    data = re.sub(r\"won't\", \"will not\", data)\n",
    "    data = re.sub(r\"they're\", \"they are\", data)\n",
    "    data = re.sub(r\"Can't\", \"Cannot\", data)\n",
    "    data = re.sub(r\"wasn't\", \"was not\", data)\n",
    "    data = re.sub(r\"don\\x89Ûªt\", \"do not\", data)\n",
    "    data= re.sub(r\"aren't\", \"are not\", data)\n",
    "    data = re.sub(r\"isn't\", \"is not\", data)\n",
    "    data = re.sub(r\"What's\", \"What is\", data)\n",
    "    data = re.sub(r\"haven't\", \"have not\", data)\n",
    "    data = re.sub(r\"hasn't\", \"has not\", data)\n",
    "    data = re.sub(r\"There's\", \"There is\", data)\n",
    "    data = re.sub(r\"He's\", \"He is\", data)\n",
    "    data = re.sub(r\"It's\", \"It is\", data)\n",
    "    data = re.sub(r\"You're\", \"You are\", data)\n",
    "    data = re.sub(r\"I'M\", \"I am\", data)\n",
    "    data = re.sub(r\"shouldn't\", \"should not\", data)\n",
    "    data = re.sub(r\"wouldn't\", \"would not\", data)\n",
    "    data = re.sub(r\"i'm\", \"I am\", data)\n",
    "    data = re.sub(r\"I\\x89Ûªm\", \"I am\", data)\n",
    "    data = re.sub(r\"I'm\", \"I am\", data)\n",
    "    data = re.sub(r\"Isn't\", \"is not\", data)\n",
    "    data = re.sub(r\"Here's\", \"Here is\", data)\n",
    "    data = re.sub(r\"you've\", \"you have\", data)\n",
    "    data = re.sub(r\"you\\x89Ûªve\", \"you have\", data)\n",
    "    data = re.sub(r\"we're\", \"we are\", data)\n",
    "    data = re.sub(r\"what's\", \"what is\", data)\n",
    "    data = re.sub(r\"couldn't\", \"could not\", data)\n",
    "    data = re.sub(r\"we've\", \"we have\", data)\n",
    "    data = re.sub(r\"it\\x89Ûªs\", \"it is\", data)\n",
    "    data = re.sub(r\"doesn\\x89Ûªt\", \"does not\", data)\n",
    "    data = re.sub(r\"It\\x89Ûªs\", \"It is\", data)\n",
    "    data = re.sub(r\"Here\\x89Ûªs\", \"Here is\", data)\n",
    "    data = re.sub(r\"who's\", \"who is\", data)\n",
    "    data = re.sub(r\"I\\x89Ûªve\", \"I have\", data)\n",
    "    data = re.sub(r\"y'all\", \"you all\", data)\n",
    "    data = re.sub(r\"can\\x89Ûªt\", \"cannot\", data)\n",
    "    data = re.sub(r\"would've\", \"would have\", data)\n",
    "    data = re.sub(r\"it'll\", \"it will\", data)\n",
    "    data = re.sub(r\"we'll\", \"we will\", data)\n",
    "    data = re.sub(r\"wouldn\\x89Ûªt\", \"would not\", data)\n",
    "    data = re.sub(r\"We've\", \"We have\", data)\n",
    "    data = re.sub(r\"he'll\", \"he will\", data)\n",
    "    data = re.sub(r\"Y'all\", \"You all\", data)\n",
    "    data = re.sub(r\"Weren't\", \"Were not\", data)\n",
    "    data = re.sub(r\"Didn't\", \"Did not\", data)\n",
    "    data = re.sub(r\"they'll\", \"they will\", data)\n",
    "    data = re.sub(r\"they'd\", \"they would\", data)\n",
    "    data = re.sub(r\"DON'T\", \"DO NOT\", data)\n",
    "    data = re.sub(r\"That\\x89Ûªs\", \"That is\", data)\n",
    "    data = re.sub(r\"they've\", \"they have\", data)\n",
    "    data = re.sub(r\"i'd\", \"I would\", data)\n",
    "    data = re.sub(r\"should've\", \"should have\", data)\n",
    "    data = re.sub(r\"You\\x89Ûªre\", \"You are\", data)\n",
    "    data = re.sub(r\"where's\", \"where is\", data)\n",
    "    data = re.sub(r\"Don\\x89Ûªt\", \"Do not\", data)\n",
    "    data = re.sub(r\"we'd\", \"we would\", data)\n",
    "    data = re.sub(r\"i'll\", \"I will\", data)\n",
    "    data = re.sub(r\"weren't\", \"were not\", data)\n",
    "    data = re.sub(r\"They're\", \"They are\", data)\n",
    "    data = re.sub(r\"Can\\x89Ûªt\", \"Cannot\", data)\n",
    "    data = re.sub(r\"you\\x89Ûªll\", \"you will\", data)\n",
    "    data = re.sub(r\"I\\x89Ûªd\", \"I would\", data)\n",
    "    data = re.sub(r\"let's\", \"let us\", data)\n",
    "    data = re.sub(r\"it's\", \"it is\", data)\n",
    "    data = re.sub(r\"can't\", \"cannot\", data)\n",
    "    data = re.sub(r\"don't\", \"do not\", data)\n",
    "    data = re.sub(r\"you're\", \"you are\", data)\n",
    "    data = re.sub(r\"i've\", \"I have\", data)\n",
    "    data = re.sub(r\"that's\", \"that is\", data)\n",
    "    data = re.sub(r\"i'll\", \"I will\", data)\n",
    "    data = re.sub(r\"doesn't\", \"does not\",data)\n",
    "    data = re.sub(r\"i'd\", \"I would\", data)\n",
    "    data = re.sub(r\"didn't\", \"did not\", data)\n",
    "    data = re.sub(r\"ain't\", \"am not\", data)\n",
    "    data = re.sub(r\"you'll\", \"you will\", data)\n",
    "    data = re.sub(r\"I've\", \"I have\", data)\n",
    "    data = re.sub(r\"Don't\", \"do not\", data)\n",
    "    data = re.sub(r\"I'll\", \"I will\", data)\n",
    "    data = re.sub(r\"I'd\", \"I would\", data)\n",
    "    data = re.sub(r\"Let's\", \"Let us\", data)\n",
    "    data = re.sub(r\"you'd\", \"You would\", data)\n",
    "    data = re.sub(r\"It's\", \"It is\", data)\n",
    "    data = re.sub(r\"Ain't\", \"am not\", data)\n",
    "    data = re.sub(r\"Haven't\", \"Have not\", data)\n",
    "    data = re.sub(r\"Could've\", \"Could have\", data)\n",
    "    data = re.sub(r\"youve\", \"you have\", data)  \n",
    "    data = re.sub(r\"donå«t\", \"do not\", data)  \n",
    "    return data\n",
    "    \n",
    "df_train['tweet'] = df_train['tweet'].apply(lambda z: remove_abb(z))\n",
    "df_val['tweet'] = df_val['tweet'].apply(lambda z: remove_abb(z))\n",
    "df_test['tweet'] = df_test['tweet'].apply(lambda z: remove_abb(z))"
   ]
  },
  {
   "cell_type": "code",
   "execution_count": 12,
   "metadata": {
    "execution": {
     "iopub.execute_input": "2021-08-10T07:26:29.896358Z",
     "iopub.status.busy": "2021-08-10T07:26:29.896023Z",
     "iopub.status.idle": "2021-08-10T07:26:29.909742Z",
     "shell.execute_reply": "2021-08-10T07:26:29.908897Z",
     "shell.execute_reply.started": "2021-08-10T07:26:29.896323Z"
    }
   },
   "outputs": [
    {
     "name": "stdout",
     "output_type": "stream",
     "text": [
      "(31962, 3)\n",
      "   id  label                                              tweet\n",
      "0   1      0   user when a father is dysfunctional and is so...\n",
      "1   2      0  user user thanks for lyft credit i cant use ca...\n",
      "2   3      0                                bihday your majesty\n",
      "3   4      0  model   i love u take with u all the time in u...\n",
      "4   5      0               factsguide society now    motivation\n",
      "(31962, 3)\n",
      "   id  label                                              tweet\n",
      "0   1      0   user when a father is dysfunctional and is so...\n",
      "1   2      0  user user thanks for lyft credit i cant use ca...\n",
      "2   3      0                                bihday your majesty\n",
      "3   4      0  model   i love u take with u all the time in u...\n",
      "4   5      0               factsguide society now    motivation\n",
      "(31962, 3)\n",
      "   id  label                                              tweet\n",
      "0   1      0   user when a father is dysfunctional and is so...\n",
      "1   2      0  user user thanks for lyft credit i cant use ca...\n",
      "2   3      0                                bihday your majesty\n",
      "3   4      0  model   i love u take with u all the time in u...\n",
      "4   5      0               factsguide society now    motivation\n"
     ]
    }
   ],
   "source": [
    "print(df_train.shape)\n",
    "print(df_train.head(5))\n",
    "print(df_val.shape)\n",
    "print(df_val.head(5))\n",
    "print(df_test.shape)\n",
    "print(df_test.head(5))"
   ]
  },
  {
   "cell_type": "markdown",
   "metadata": {},
   "source": [
    "## Encoding "
   ]
  },
  {
   "cell_type": "code",
   "execution_count": 13,
   "metadata": {
    "execution": {
     "iopub.execute_input": "2021-08-10T07:26:29.911486Z",
     "iopub.status.busy": "2021-08-10T07:26:29.911083Z",
     "iopub.status.idle": "2021-08-10T07:26:29.923672Z",
     "shell.execute_reply": "2021-08-10T07:26:29.922301Z",
     "shell.execute_reply.started": "2021-08-10T07:26:29.911449Z"
    }
   },
   "outputs": [],
   "source": [
    "class IntentDetectionData:\n",
    "    DATA_COLUMN,  LABEL_COLUMN  = \"tweet\",\"label\"\n",
    "\n",
    "    def __init__(self, train, val, test, tokenizer: FullTokenizer, classes, max_seq_len):\n",
    "        self.tokenizer = tokenizer\n",
    "        self.max_seq_len = 0\n",
    "        self.classes = classes\n",
    "\n",
    "        ((self.train_x, self.train_y), (self.val_x, self.val_y), (self.test_x, self.test_y)) = map(self._prepare, [train, val, test])\n",
    "\n",
    "        self.max_seq_len = min(self.max_seq_len, max_seq_len)\n",
    "        self.train_x, self.val_x, self.test_x = map(self._pad, [self.train_x, self.val_x, self.test_x])\n",
    "\n",
    "    def _prepare(self, df):\n",
    "        x, y = [], []\n",
    "    \n",
    "        for non, row in tqdm(df.iterrows()):\n",
    "            text, label =\\\n",
    "                row[IntentDetectionData.DATA_COLUMN], row[IntentDetectionData.LABEL_COLUMN]\n",
    "\n",
    "            tokens = self.tokenizer.tokenize(text)\n",
    "            tokens = [\"[CLS]\"] + tokens + [\"[SEP]\"] ## Tokens beigning and ending specified by separation of tokens.\n",
    "\n",
    "            token_ids = self.tokenizer.convert_tokens_to_ids(tokens) ## Convert Tokens to IDs\n",
    "\n",
    "            self.max_seq_len = max(self.max_seq_len, len(token_ids))\n",
    "\n",
    "            x.append(token_ids)\n",
    "            y.append(self.classes.index(label))\n",
    "\n",
    "        return np.array(x), np.array(y)\n",
    "\n",
    "    def _pad(self, ids):\n",
    "        x = []\n",
    "        for input_ids in ids:\n",
    "            input_ids = input_ids[:min(len(input_ids), self.max_seq_len - 2)] ## -2 as ignoring tokens provided by bert\n",
    "            input_ids = input_ids + [0] * (self.max_seq_len - len(input_ids)) ## padding by zeros\n",
    "            x.append(np.array(input_ids))\n",
    "        \n",
    "        return np.array(x)"
   ]
  },
  {
   "cell_type": "markdown",
   "metadata": {},
   "source": [
    "## Model"
   ]
  },
  {
   "cell_type": "markdown",
   "metadata": {},
   "source": [
    "### CNN"
   ]
  },
  {
   "cell_type": "code",
   "execution_count": 14,
   "metadata": {
    "execution": {
     "iopub.execute_input": "2021-08-10T07:26:29.937188Z",
     "iopub.status.busy": "2021-08-10T07:26:29.936788Z",
     "iopub.status.idle": "2021-08-10T07:26:29.944494Z",
     "shell.execute_reply": "2021-08-10T07:26:29.943377Z",
     "shell.execute_reply.started": "2021-08-10T07:26:29.937153Z"
    }
   },
   "outputs": [],
   "source": [
    "def CNN_V0(bert_output):\n",
    "    net = Conv1D(128, 7, activation='relu',padding='same')(bert_output)\n",
    "    net = MaxPooling1D()(net)\n",
    "    net = Conv1D(256, 5, activation='relu',padding='same')(net)\n",
    "    net = MaxPooling1D()(net)\n",
    "    net = Conv1D(512, 3, activation='relu',padding='same')(net)\n",
    "    net = MaxPooling1D()(net)\n",
    "    net = Flatten()(net)\n",
    "    net = Dense(128, activation='relu')(net)\n",
    "    net = Dropout(0.5)(net)\n",
    "    outputs = Dense(1, activation='sigmoid', name='classifier')(net) \n",
    "    return outputs"
   ]
  },
  {
   "cell_type": "markdown",
   "metadata": {},
   "source": [
    "### BiLSTM"
   ]
  },
  {
   "cell_type": "code",
   "execution_count": 15,
   "metadata": {
    "execution": {
     "iopub.execute_input": "2021-08-10T07:26:29.946482Z",
     "iopub.status.busy": "2021-08-10T07:26:29.945943Z",
     "iopub.status.idle": "2021-08-10T07:26:29.955890Z",
     "shell.execute_reply": "2021-08-10T07:26:29.955048Z",
     "shell.execute_reply.started": "2021-08-10T07:26:29.946447Z"
    }
   },
   "outputs": [],
   "source": [
    "def BiLSTM_V0(bert_output):\n",
    "    net = Bidirectional(LSTM(units=32, return_sequences=True,))(bert_output)\n",
    "    net = GlobalAveragePooling1D()(net)\n",
    "    net = Dense(20, activation='relu')(net)\n",
    "    net = Dropout(rate=0.5)(net)\n",
    "    outputs = Dense(1, activation='sigmoid', name='classifier')(net) \n",
    "    return outputs"
   ]
  },
  {
   "cell_type": "code",
   "execution_count": 16,
   "metadata": {},
   "outputs": [],
   "source": [
    "def LSTM_V0(bert_output):\n",
    "    net = LSTM(units=32, return_sequences=True,)(bert_output)\n",
    "    net = GlobalAveragePooling1D()(net)\n",
    "    net = Dense(20, activation='relu')(net)\n",
    "    net = Dropout(rate=0.5)(net)\n",
    "    outputs = Dense(1, activation='sigmoid', name='classifier')(net) \n",
    "    return outputs"
   ]
  },
  {
   "cell_type": "markdown",
   "metadata": {},
   "source": [
    "### CNN + LSTM"
   ]
  },
  {
   "cell_type": "code",
   "execution_count": 17,
   "metadata": {
    "execution": {
     "iopub.execute_input": "2021-08-10T07:26:29.957832Z",
     "iopub.status.busy": "2021-08-10T07:26:29.957381Z",
     "iopub.status.idle": "2021-08-10T07:26:29.966297Z",
     "shell.execute_reply": "2021-08-10T07:26:29.965406Z",
     "shell.execute_reply.started": "2021-08-10T07:26:29.957794Z"
    }
   },
   "outputs": [],
   "source": [
    "def CNN_LSTM_V0(bert_output):\n",
    "    net = Dropout(0.3)(bert_output)\n",
    "    net = Conv1D(200, 5, activation='relu')(net)\n",
    "    net = MaxPooling1D(pool_size=2)(net)\n",
    "    net = LSTM(100)(net)\n",
    "    net = Dropout(0.3)(net)\n",
    "    net = Dense(16,activation='relu')(net)\n",
    "    outputs = Dense(1, activation='sigmoid', name='classifier')(net)\n",
    "    return outputs"
   ]
  },
  {
   "cell_type": "code",
   "execution_count": 18,
   "metadata": {
    "execution": {
     "iopub.execute_input": "2021-08-10T07:26:29.967965Z",
     "iopub.status.busy": "2021-08-10T07:26:29.967447Z",
     "iopub.status.idle": "2021-08-10T07:26:29.978780Z",
     "shell.execute_reply": "2021-08-10T07:26:29.977934Z",
     "shell.execute_reply.started": "2021-08-10T07:26:29.967923Z"
    }
   },
   "outputs": [],
   "source": [
    "def CNN_LSTM_V1(bert_output):\n",
    "\n",
    "    # channel 1\n",
    "    net = Conv1D(filters=128, kernel_size=3*32, activation='relu')(bert_output)\n",
    "    net = MaxPooling1D(pool_size=2)(net)\n",
    "    net = Dropout(0.5)(net)\n",
    "    net = BatchNormalization()(net)\n",
    "    a = LSTM(128)(net)\n",
    "\n",
    "    # channel 2\n",
    "    net = Conv1D(filters=128, kernel_size=5*32, activation='relu')(bert_output)\n",
    "    net = MaxPooling1D(pool_size=2)(net)\n",
    "    net = Dropout(0.5)(net)\n",
    "    net = BatchNormalization()(net)\n",
    "    b = LSTM(128)(net)\n",
    "\n",
    "    # channel 3\n",
    "    net = Conv1D(filters=128, kernel_size=7*32, activation='relu')(bert_output)\n",
    "    net = MaxPooling1D(pool_size=2)(net)\n",
    "    net = Dropout(0.5)(net)\n",
    "    net = BatchNormalization()(net)\n",
    "    c = LSTM(128)(net)\n",
    "\n",
    "    # channel 4\n",
    "    net = Conv1D(filters=128, kernel_size=9*32, activation='relu')(bert_output)\n",
    "    net = MaxPooling1D(pool_size=2)(net)\n",
    "    net = Dropout(0.5)(net)\n",
    "    net = BatchNormalization()(net)\n",
    "    d = LSTM(128)(net)\n",
    "\n",
    "    merged = concatenate([a,b,c,d])\n",
    "    dense = Dense(100, activation='relu')(merged)\n",
    "    drop = Dropout(0.2)(dense)\n",
    "    outputs = Dense(1, activation='sigmoid')(merged)\n",
    "    return outputs"
   ]
  },
  {
   "cell_type": "markdown",
   "metadata": {},
   "source": [
    "### LSTM + CNN"
   ]
  },
  {
   "cell_type": "code",
   "execution_count": 19,
   "metadata": {
    "execution": {
     "iopub.execute_input": "2021-08-10T07:26:29.980771Z",
     "iopub.status.busy": "2021-08-10T07:26:29.980351Z",
     "iopub.status.idle": "2021-08-10T07:26:29.996620Z",
     "shell.execute_reply": "2021-08-10T07:26:29.995824Z",
     "shell.execute_reply.started": "2021-08-10T07:26:29.980701Z"
    }
   },
   "outputs": [],
   "source": [
    "def LSTM_CNN_V0(bert_output):\n",
    "    net = Bidirectional(LSTM(128, return_sequences=True))(bert_output)\n",
    "    net = Conv1D(128, 7, activation='relu',padding='same')(net)\n",
    "    net = MaxPooling1D()(net)\n",
    "    net = Conv1D(256, 5, activation='relu',padding='same')(net)\n",
    "    net = MaxPooling1D()(net)\n",
    "    net = Conv1D(512, 3, activation='relu',padding='same')(net)\n",
    "    net = MaxPooling1D()(net)\n",
    "    net = Flatten()(net)\n",
    "    net = Dense(128, activation='relu')(net)\n",
    "    net = Dropout(0.5)(net)\n",
    "    outputs = Dense(1, activation='sigmoid', name='classifier')(net) \n",
    "    return outputs"
   ]
  },
  {
   "cell_type": "code",
   "execution_count": 20,
   "metadata": {
    "execution": {
     "iopub.execute_input": "2021-08-10T07:26:29.998506Z",
     "iopub.status.busy": "2021-08-10T07:26:29.998053Z",
     "iopub.status.idle": "2021-08-10T07:26:30.008012Z",
     "shell.execute_reply": "2021-08-10T07:26:30.006950Z",
     "shell.execute_reply.started": "2021-08-10T07:26:29.998470Z"
    }
   },
   "outputs": [],
   "source": [
    "def create_model(model_name, model_ver, max_seq_len, bert_checkpnt_file):\n",
    "\n",
    "    with tf.io.gfile.GFile(bert_config_file, \"r\") as reader:\n",
    "        bc = StockBertConfig.from_json_string(reader.read()) ## Reading bert config\n",
    "        bert_params = map_stock_config_to_params(bc) ## Mapping parameters \n",
    "        bert_params.adapter_size = None # Adapter size helps tune Bert model faster\n",
    "        bert = BertModelLayer.from_params(bert_params, name=\"bert\")\n",
    "        \n",
    "    ## Creat dictionary\n",
    "    choose_model = {'CNN':{0: CNN_V0},\n",
    "                    'BiLSTM':{0: BiLSTM_V0},\n",
    "                    'LSTM':{0: LSTM_V0},\n",
    "                    'CNN+LSTM':{0: CNN_LSTM_V0, 1: CNN_LSTM_V1},\n",
    "                    'LSTM+CNN':{0: LSTM_CNN_V0},}\n",
    "    \n",
    "    ## Specifying input\n",
    "    input_ids = keras.layers.Input(shape=(max_seq_len,), dtype='int32', name=\"input_ids\")\n",
    "    bert_output = bert(input_ids)\n",
    "        \n",
    "    outputs = choose_model[model_name][model_ver](bert_output)\n",
    "\n",
    "    model = keras.Model(input_ids, outputs)\n",
    "    model.build(input_shape=(None, max_seq_len))\n",
    "    load_stock_weights(bert, bert_checkpnt_file) ##Loading the weights from bert chckpoint file\n",
    "        \n",
    "    return model"
   ]
  },
  {
   "cell_type": "markdown",
   "metadata": {},
   "source": [
    "## BERT GCN"
   ]
  },
  {
   "cell_type": "code",
   "execution_count": 21,
   "metadata": {
    "execution": {
     "iopub.execute_input": "2021-08-10T07:26:30.009910Z",
     "iopub.status.busy": "2021-08-10T07:26:30.009405Z",
     "iopub.status.idle": "2021-08-10T07:26:36.969127Z",
     "shell.execute_reply": "2021-08-10T07:26:36.968107Z",
     "shell.execute_reply.started": "2021-08-10T07:26:30.009874Z"
    }
   },
   "outputs": [],
   "source": [
    "bert_model_name = \"uncased_L-12_H-768_A-12\"\n",
    "# uncased_L-4_H-512_A-8\n",
    "# uncased_L-12_H-768_A-12\n",
    "\n",
    "#!wget  https://storage.googleapis.com/bert_models/2020_02_20/uncased_L-12_H-768_A-12.zip\n",
    "#!unzip {bert_model_name}.zip"
   ]
  },
  {
   "cell_type": "code",
   "execution_count": 22,
   "metadata": {
    "execution": {
     "iopub.execute_input": "2021-08-10T07:26:36.971183Z",
     "iopub.status.busy": "2021-08-10T07:26:36.970837Z",
     "iopub.status.idle": "2021-08-10T07:26:36.978593Z",
     "shell.execute_reply": "2021-08-10T07:26:36.977614Z",
     "shell.execute_reply.started": "2021-08-10T07:26:36.971143Z"
    }
   },
   "outputs": [
    {
     "name": "stdout",
     "output_type": "stream",
     "text": [
      "./bert_model.ckpt\n",
      "./bert_config.json\n",
      "./vocab.txt\n"
     ]
    }
   ],
   "source": [
    "bert_model_path = \"./\"\n",
    "bert_checkpnt_file = os.path.join(bert_model_path, \"bert_model.ckpt\")\n",
    "bert_config_file = os.path.join(bert_model_path, \"bert_config.json\")\n",
    "bert_vocab_file = os.path.join(bert_model_path, \"vocab.txt\")\n",
    "print(bert_checkpnt_file)\n",
    "print(bert_config_file)\n",
    "print(bert_vocab_file)"
   ]
  },
  {
   "cell_type": "markdown",
   "metadata": {},
   "source": [
    "## Data Pretrain"
   ]
  },
  {
   "cell_type": "code",
   "execution_count": 23,
   "metadata": {
    "execution": {
     "iopub.execute_input": "2021-08-10T07:26:36.980799Z",
     "iopub.status.busy": "2021-08-10T07:26:36.980145Z",
     "iopub.status.idle": "2021-08-10T07:26:37.101231Z",
     "shell.execute_reply": "2021-08-10T07:26:37.100256Z",
     "shell.execute_reply.started": "2021-08-10T07:26:36.980748Z"
    }
   },
   "outputs": [
    {
     "name": "stdout",
     "output_type": "stream",
     "text": [
      "['people', 'say', 'nothing', 'is', 'impossible', ',', 'but', 'i', 'do', 'nothing', 'everyday']\n"
     ]
    },
    {
     "data": {
      "text/plain": [
       "[2111, 2360, 2498, 2003, 5263, 1010, 2021, 1045, 2079, 2498, 10126]"
      ]
     },
     "execution_count": 23,
     "metadata": {},
     "output_type": "execute_result"
    }
   ],
   "source": [
    "# Tokenize\n",
    "tokenizer = FullTokenizer(vocab_file=bert_vocab_file)\n",
    "tokens = tokenizer.tokenize(\"People say nothing is impossible, but I do nothing everyday\")\n",
    "print(tokens)\n",
    "tokenizer.convert_tokens_to_ids(tokens)"
   ]
  },
  {
   "cell_type": "code",
   "execution_count": 24,
   "metadata": {
    "execution": {
     "iopub.execute_input": "2021-08-10T07:26:37.105496Z",
     "iopub.status.busy": "2021-08-10T07:26:37.105152Z",
     "iopub.status.idle": "2021-08-10T07:31:20.236254Z",
     "shell.execute_reply": "2021-08-10T07:31:20.235183Z",
     "shell.execute_reply.started": "2021-08-10T07:26:37.105467Z"
    }
   },
   "outputs": [
    {
     "name": "stderr",
     "output_type": "stream",
     "text": [
      "31962it [00:10, 3177.33it/s]\n",
      "31962it [00:09, 3447.36it/s]\n",
      "31962it [00:09, 3377.92it/s]\n"
     ]
    },
    {
     "name": "stdout",
     "output_type": "stream",
     "text": [
      "72\n"
     ]
    }
   ],
   "source": [
    "classes = [0, 1]\n",
    "max_seq_len = 72\n",
    "data = IntentDetectionData(df_train, df_val, df_test, tokenizer, classes, max_seq_len)\n",
    "print(data.max_seq_len)"
   ]
  },
  {
   "cell_type": "markdown",
   "metadata": {},
   "source": [
    "## GCN - NN with BERT"
   ]
  },
  {
   "cell_type": "code",
   "execution_count": 26,
   "metadata": {
    "execution": {
     "iopub.execute_input": "2021-08-10T07:31:20.238316Z",
     "iopub.status.busy": "2021-08-10T07:31:20.237973Z",
     "iopub.status.idle": "2021-08-10T07:31:32.015735Z",
     "shell.execute_reply": "2021-08-10T07:31:32.014886Z",
     "shell.execute_reply.started": "2021-08-10T07:31:20.238278Z"
    }
   },
   "outputs": [
    {
     "name": "stdout",
     "output_type": "stream",
     "text": [
      "Done loading 196 BERT weights from: ./bert_model.ckpt into <bert.model.BertModelLayer object at 0x000002CBF2B86910> (prefix:bert). Count of weights not found in the checkpoint was: [0]. Count of weights with mismatched shape: [0]\n",
      "Unused weights from checkpoint: \n",
      "\tbert/embeddings/token_type_embeddings\n",
      "\tbert/pooler/dense/bias\n",
      "\tbert/pooler/dense/kernel\n",
      "\tcls/predictions/output_bias\n",
      "\tcls/predictions/transform/LayerNorm/beta\n",
      "\tcls/predictions/transform/LayerNorm/gamma\n",
      "\tcls/predictions/transform/dense/bias\n",
      "\tcls/predictions/transform/dense/kernel\n",
      "\tcls/seq_relationship/output_bias\n",
      "\tcls/seq_relationship/output_weights\n",
      "Model: \"functional_1\"\n",
      "_________________________________________________________________\n",
      "Layer (type)                 Output Shape              Param #   \n",
      "=================================================================\n",
      "input_ids (InputLayer)       [(None, 72)]              0         \n",
      "_________________________________________________________________\n",
      "bert (BertModelLayer)        (None, 72, 768)           108890112 \n",
      "_________________________________________________________________\n",
      "conv1d (Conv1D)              (None, 72, 128)           688256    \n",
      "_________________________________________________________________\n",
      "max_pooling1d (MaxPooling1D) (None, 36, 128)           0         \n",
      "_________________________________________________________________\n",
      "conv1d_1 (Conv1D)            (None, 36, 256)           164096    \n",
      "_________________________________________________________________\n",
      "max_pooling1d_1 (MaxPooling1 (None, 18, 256)           0         \n",
      "_________________________________________________________________\n",
      "conv1d_2 (Conv1D)            (None, 18, 512)           393728    \n",
      "_________________________________________________________________\n",
      "max_pooling1d_2 (MaxPooling1 (None, 9, 512)            0         \n",
      "_________________________________________________________________\n",
      "flatten (Flatten)            (None, 4608)              0         \n",
      "_________________________________________________________________\n",
      "dense (Dense)                (None, 128)               589952    \n",
      "_________________________________________________________________\n",
      "dropout (Dropout)            (None, 128)               0         \n",
      "_________________________________________________________________\n",
      "classifier (Dense)           (None, 1)                 129       \n",
      "=================================================================\n",
      "Total params: 110,726,273\n",
      "Trainable params: 110,726,273\n",
      "Non-trainable params: 0\n",
      "_________________________________________________________________\n"
     ]
    }
   ],
   "source": [
    "model_name = \"CNN\"\n",
    "model_ver = 0\n",
    "LR = 2e-5\n",
    "loss = tf.keras.losses.BinaryCrossentropy(from_logits=True)\n",
    "optimizer = Adam(learning_rate=LR)\n",
    "metrics = tf.metrics.BinaryAccuracy()\n",
    "\n",
    "model = create_model(model_name, model_ver, max_seq_len, bert_checkpnt_file)\n",
    "model.compile(loss=loss, optimizer=optimizer, metrics=metrics)\n",
    "model.summary()"
   ]
  },
  {
   "cell_type": "markdown",
   "metadata": {},
   "source": [
    "## Model training"
   ]
  },
  {
   "cell_type": "code",
   "execution_count": 28,
   "metadata": {
    "execution": {
     "iopub.execute_input": "2021-08-10T07:31:32.560934Z",
     "iopub.status.busy": "2021-08-10T07:31:32.560525Z",
     "iopub.status.idle": "2021-08-10T09:44:14.853488Z",
     "shell.execute_reply": "2021-08-10T09:44:14.852254Z",
     "shell.execute_reply.started": "2021-08-10T07:31:32.560892Z"
    }
   },
   "outputs": [
    {
     "name": "stdout",
     "output_type": "stream",
     "text": [
      "Training model with uncased_L-12_H-768_A-12_CNN_V0_72\n",
      "\n",
      "Epoch 1/2\n",
      "1998/1998 [==============================] - ETA: 0s - loss: 0.6931 - binary_accuracy: 0.9299\n",
      "Epoch 00001: val_binary_accuracy improved from -inf to 0.92985, saving model to [uncased_L-12_H-768_A-12]CNN_V0_72.hdf5\n",
      "1998/1998 [==============================] - 22234s 11s/step - loss: 0.6931 - binary_accuracy: 0.9299 - val_loss: 0.6931 - val_binary_accuracy: 0.9299\n",
      "Epoch 2/2\n",
      "1998/1998 [==============================] - ETA: 0s - loss: 0.6931 - binary_accuracy: 0.9299\n",
      "Epoch 00002: val_binary_accuracy did not improve from 0.92985\n",
      "1998/1998 [==============================] - 22702s 11s/step - loss: 0.6931 - binary_accuracy: 0.9299 - val_loss: 0.6931 - val_binary_accuracy: 0.9299\n"
     ]
    }
   ],
   "source": [
    "# Save model\n",
    "model_ckpt_path = f\"[{bert_model_name}]{model_name}_V{model_ver}_{max_seq_len}.hdf5\"\n",
    "checkpoint = ModelCheckpoint(model_ckpt_path, monitor='val_binary_accuracy', mode='max',verbose=1, save_best_only=True, save_weights_only=True)\n",
    "callbacks_list = [checkpoint]\n",
    "\n",
    "# Training\n",
    "print(f\"Training model with {bert_model_name}_{model_name}_V{model_ver}_{max_seq_len}\\n\")\n",
    "train_history = model.fit(data.train_x, data.train_y, validation_data=(data.val_x,data.val_y), epochs=2, batch_size=16, verbose=1, callbacks=callbacks_list)"
   ]
  },
  {
   "cell_type": "code",
   "execution_count": 29,
   "metadata": {
    "execution": {
     "iopub.execute_input": "2021-08-10T09:44:14.858973Z",
     "iopub.status.busy": "2021-08-10T09:44:14.858678Z",
     "iopub.status.idle": "2021-08-10T09:44:15.247014Z",
     "shell.execute_reply": "2021-08-10T09:44:15.246050Z",
     "shell.execute_reply.started": "2021-08-10T09:44:14.858942Z"
    }
   },
   "outputs": [
    {
     "name": "stdout",
     "output_type": "stream",
     "text": [
      "dict_keys(['loss', 'binary_accuracy', 'val_loss', 'val_binary_accuracy'])\n"
     ]
    },
    {
     "data": {
      "text/plain": [
       "<matplotlib.legend.Legend at 0x2cb88444e80>"
      ]
     },
     "execution_count": 29,
     "metadata": {},
     "output_type": "execute_result"
    },
    {
     "data": {
      "image/png": "[encoded data removed]",
      "text/plain": [
       "<Figure size 720x432 with 2 Axes>"
      ]
     },
     "metadata": {
      "needs_background": "light"
     },
     "output_type": "display_data"
    }
   ],
   "source": [
    "# Plot accuracy and loss\n",
    "history_dict = train_history.history\n",
    "print(history_dict.keys())\n",
    "\n",
    "acc = history_dict['binary_accuracy']\n",
    "val_acc = history_dict['val_binary_accuracy']\n",
    "loss = history_dict['loss']\n",
    "val_loss = history_dict['val_loss']\n",
    "\n",
    "epochs = range(1, len(acc) + 1)\n",
    "fig = plt.figure(figsize=(10, 6))\n",
    "fig.tight_layout()\n",
    "\n",
    "plt.subplot(2, 1, 1)\n",
    "plt.plot(epochs, loss, 'r', label='Training loss')\n",
    "plt.plot(epochs, val_loss, 'b', label='Validation loss')\n",
    "plt.title('Training and validation loss')\n",
    "plt.ylabel('Loss')\n",
    "plt.legend()\n",
    "\n",
    "plt.subplot(2, 1, 2)\n",
    "plt.plot(epochs, acc, 'r', label='Training acc')\n",
    "plt.plot(epochs, val_acc, 'b', label='Validation acc')\n",
    "plt.title('Training and validation accuracy')\n",
    "plt.xlabel('Epochs')\n",
    "plt.ylabel('Accuracy')\n",
    "plt.legend(loc='lower right')"
   ]
  },
  {
   "cell_type": "code",
   "execution_count": 30,
   "metadata": {
    "execution": {
     "iopub.execute_input": "2021-08-10T09:44:15.248710Z",
     "iopub.status.busy": "2021-08-10T09:44:15.248372Z",
     "iopub.status.idle": "2021-08-10T09:44:15.259665Z",
     "shell.execute_reply": "2021-08-10T09:44:15.258749Z",
     "shell.execute_reply.started": "2021-08-10T09:44:15.248672Z"
    }
   },
   "outputs": [],
   "source": [
    "# Save architecture model\n",
    "config = model.to_json()\n",
    "model_config_path = f\"[{bert_model_name}]{model_name}_V{model_ver}_{max_seq_len}.json\"\n",
    "with open(model_config_path, \"w\") as outfile:\n",
    "    json.dump(config, outfile)"
   ]
  },
  {
   "cell_type": "markdown",
   "metadata": {},
   "source": [
    "## Evaluate"
   ]
  },
  {
   "cell_type": "code",
   "execution_count": 31,
   "metadata": {
    "execution": {
     "iopub.execute_input": "2021-08-10T09:44:15.261482Z",
     "iopub.status.busy": "2021-08-10T09:44:15.261015Z",
     "iopub.status.idle": "2021-08-10T09:47:08.403074Z",
     "shell.execute_reply": "2021-08-10T09:47:08.402123Z",
     "shell.execute_reply.started": "2021-08-10T09:44:15.261436Z"
    }
   },
   "outputs": [
    {
     "name": "stdout",
     "output_type": "stream",
     "text": [
      "ACCURACY_SCORE:  0.9299\n",
      "F1_SCORE:  0.4818\n",
      "ROC_AUC_SCORE:  0.5564\n",
      "CONFUSION_MATRIX:\n",
      " [[29720     0]\n",
      " [ 2242     0]] \n",
      "\n"
     ]
    }
   ],
   "source": [
    "model.load_weights(model_ckpt_path)\n",
    "y_pred_proba = model.predict(data.test_x)\n",
    "get_metrics(data.test_y, y_pred_proba)"
   ]
  },
  {
   "cell_type": "markdown",
   "metadata": {},
   "source": [
    "# LSTM + GCN with BERT"
   ]
  },
  {
   "cell_type": "code",
   "execution_count": 25,
   "metadata": {},
   "outputs": [
    {
     "name": "stdout",
     "output_type": "stream",
     "text": [
      "Done loading 196 BERT weights from: ./bert_model.ckpt into <bert.model.BertModelLayer object at 0x00000181693A02B0> (prefix:bert). Count of weights not found in the checkpoint was: [0]. Count of weights with mismatched shape: [0]\n",
      "Unused weights from checkpoint: \n",
      "\tbert/embeddings/token_type_embeddings\n",
      "\tbert/pooler/dense/bias\n",
      "\tbert/pooler/dense/kernel\n",
      "\tcls/predictions/output_bias\n",
      "\tcls/predictions/transform/LayerNorm/beta\n",
      "\tcls/predictions/transform/LayerNorm/gamma\n",
      "\tcls/predictions/transform/dense/bias\n",
      "\tcls/predictions/transform/dense/kernel\n",
      "\tcls/seq_relationship/output_bias\n",
      "\tcls/seq_relationship/output_weights\n",
      "Model: \"functional_1\"\n",
      "_________________________________________________________________\n",
      "Layer (type)                 Output Shape              Param #   \n",
      "=================================================================\n",
      "input_ids (InputLayer)       [(None, 72)]              0         \n",
      "_________________________________________________________________\n",
      "bert (BertModelLayer)        (None, 72, 768)           108890112 \n",
      "_________________________________________________________________\n",
      "lstm (LSTM)                  (None, 72, 32)            102528    \n",
      "_________________________________________________________________\n",
      "global_average_pooling1d (Gl (None, 32)                0         \n",
      "_________________________________________________________________\n",
      "dense (Dense)                (None, 20)                660       \n",
      "_________________________________________________________________\n",
      "dropout (Dropout)            (None, 20)                0         \n",
      "_________________________________________________________________\n",
      "classifier (Dense)           (None, 1)                 21        \n",
      "=================================================================\n",
      "Total params: 108,993,321\n",
      "Trainable params: 108,993,321\n",
      "Non-trainable params: 0\n",
      "_________________________________________________________________\n"
     ]
    }
   ],
   "source": [
    "model_name = \"LSTM\"\n",
    "model_ver = 0\n",
    "LR = 2e-5\n",
    "loss = tf.keras.losses.BinaryCrossentropy(from_logits=True)\n",
    "optimizer = Adam(learning_rate=LR)\n",
    "metrics = tf.metrics.BinaryAccuracy()\n",
    "\n",
    "model = create_model(model_name, model_ver, max_seq_len, bert_checkpnt_file)\n",
    "model.compile(loss=loss, optimizer=optimizer, metrics=metrics)\n",
    "model.summary()"
   ]
  },
  {
   "cell_type": "code",
   "execution_count": 28,
   "metadata": {},
   "outputs": [
    {
     "name": "stdout",
     "output_type": "stream",
     "text": [
      "Training model with uncased_L-12_H-768_A-12_LSTM_V0_72\n",
      "\n",
      "Epoch 1/3\n",
      "1998/1998 [==============================] - ETA: 0s - loss: 0.7506 - binary_accuracy: 0.9259\n",
      "Epoch 00001: val_binary_accuracy improved from -inf to 0.92985, saving model to [uncased_L-12_H-768_A-12]LSTM_V0_72.hdf5\n",
      "1998/1998 [==============================] - 22392s 11s/step - loss: 0.7506 - binary_accuracy: 0.9259 - val_loss: 0.7011 - val_binary_accuracy: 0.9299\n",
      "Epoch 2/3\n",
      "1998/1998 [==============================] - ETA: 0s - loss: 0.7186 - binary_accuracy: 0.9289\n",
      "Epoch 00002: val_binary_accuracy did not improve from 0.92985\n",
      "1998/1998 [==============================] - 22334s 11s/step - loss: 0.7186 - binary_accuracy: 0.9289 - val_loss: 0.6943 - val_binary_accuracy: 0.9299\n",
      "Epoch 3/3\n",
      "1998/1998 [==============================] - ETA: 0s - loss: 0.7107 - binary_accuracy: 0.9299\n",
      "Epoch 00003: val_binary_accuracy did not improve from 0.92985\n",
      "1998/1998 [==============================] - 21285s 11s/step - loss: 0.7107 - binary_accuracy: 0.9299 - val_loss: 0.6934 - val_binary_accuracy: 0.9299\n"
     ]
    }
   ],
   "source": [
    "# Save model\n",
    "model_ckpt_path = f\"[{bert_model_name}]{model_name}_V{model_ver}_{max_seq_len}.hdf5\"\n",
    "checkpoint = ModelCheckpoint(model_ckpt_path, monitor='val_binary_accuracy', mode='max',verbose=1, save_best_only=True, save_weights_only=True)\n",
    "callbacks_list = [checkpoint]\n",
    "\n",
    "# Training\n",
    "print(f\"Training model with {bert_model_name}_{model_name}_V{model_ver}_{max_seq_len}\\n\")\n",
    "train_history = model.fit(data.train_x, data.train_y, validation_data=(data.val_x,data.val_y), epochs=3, batch_size=16, verbose=1, callbacks=callbacks_list)"
   ]
  },
  {
   "cell_type": "code",
   "execution_count": 29,
   "metadata": {},
   "outputs": [
    {
     "name": "stdout",
     "output_type": "stream",
     "text": [
      "dict_keys(['loss', 'binary_accuracy', 'val_loss', 'val_binary_accuracy'])\n"
     ]
    },
    {
     "data": {
      "text/plain": [
       "<matplotlib.legend.Legend at 0x1811004c7c0>"
      ]
     },
     "execution_count": 29,
     "metadata": {},
     "output_type": "execute_result"
    },
    {
     "data": {
      "image/png": "[encoded data removed]",
      "text/plain": [
       "<Figure size 720x432 with 2 Axes>"
      ]
     },
     "metadata": {
      "needs_background": "light"
     },
     "output_type": "display_data"
    }
   ],
   "source": [
    "# Plot accuracy and loss\n",
    "history_dict = train_history.history\n",
    "print(history_dict.keys())\n",
    "\n",
    "acc = history_dict['binary_accuracy']\n",
    "val_acc = history_dict['val_binary_accuracy']\n",
    "loss = history_dict['loss']\n",
    "val_loss = history_dict['val_loss']\n",
    "\n",
    "epochs = range(1, len(acc) + 1)\n",
    "fig = plt.figure(figsize=(10, 6))\n",
    "fig.tight_layout()\n",
    "\n",
    "plt.subplot(2, 1, 1)\n",
    "plt.plot(epochs, loss, 'r', label='Training loss')\n",
    "plt.plot(epochs, val_loss, 'b', label='Validation loss')\n",
    "plt.title('Training and validation loss')\n",
    "plt.ylabel('Loss')\n",
    "plt.legend()\n",
    "\n",
    "plt.subplot(2, 1, 2)\n",
    "plt.plot(epochs, acc, 'r', label='Training acc')\n",
    "plt.plot(epochs, val_acc, 'b', label='Validation acc')\n",
    "plt.title('Training and validation accuracy')\n",
    "plt.xlabel('Epochs')\n",
    "plt.ylabel('Accuracy')\n",
    "plt.legend(loc='lower right')"
   ]
  },
  {
   "cell_type": "code",
   "execution_count": 31,
   "metadata": {},
   "outputs": [
    {
     "name": "stdout",
     "output_type": "stream",
     "text": [
      "Collecting keras-tuner\n",
      "  Downloading keras_tuner-1.1.3-py3-none-any.whl (135 kB)\n",
      "Requirement already satisfied: numpy in c:\\users\\public\\anaconda3\\lib\\site-packages (from keras-tuner) (1.18.5)\n",
      "Requirement already satisfied: requests in c:\\users\\public\\anaconda3\\lib\\site-packages (from keras-tuner) (2.25.1)\n",
      "Requirement already satisfied: ipython in c:\\users\\public\\anaconda3\\lib\\site-packages (from keras-tuner) (7.22.0)\n",
      "Requirement already satisfied: tensorboard in c:\\users\\public\\anaconda3\\lib\\site-packages (from keras-tuner) (2.9.1)\n",
      "Collecting kt-legacy\n",
      "  Downloading kt_legacy-1.0.4-py3-none-any.whl (9.6 kB)\n",
      "Requirement already satisfied: packaging in c:\\users\\public\\anaconda3\\lib\\site-packages (from keras-tuner) (20.9)\n",
      "Requirement already satisfied: pygments in c:\\users\\public\\anaconda3\\lib\\site-packages (from ipython->keras-tuner) (2.8.1)\n",
      "Requirement already satisfied: jedi>=0.16 in c:\\users\\public\\anaconda3\\lib\\site-packages (from ipython->keras-tuner) (0.17.2)\n",
      "Requirement already satisfied: decorator in c:\\users\\public\\anaconda3\\lib\\site-packages (from ipython->keras-tuner) (5.0.6)\n",
      "Requirement already satisfied: colorama in c:\\users\\public\\anaconda3\\lib\\site-packages (from ipython->keras-tuner) (0.4.4)\n",
      "Requirement already satisfied: setuptools>=18.5 in c:\\users\\public\\anaconda3\\lib\\site-packages (from ipython->keras-tuner) (52.0.0.post20210125)\n",
      "Requirement already satisfied: backcall in c:\\users\\public\\anaconda3\\lib\\site-packages (from ipython->keras-tuner) (0.2.0)\n",
      "Requirement already satisfied: prompt-toolkit!=3.0.0,!=3.0.1,<3.1.0,>=2.0.0 in c:\\users\\public\\anaconda3\\lib\\site-packages (from ipython->keras-tuner) (3.0.17)\n",
      "Requirement already satisfied: pickleshare in c:\\users\\public\\anaconda3\\lib\\site-packages (from ipython->keras-tuner) (0.7.5)\n",
      "Requirement already satisfied: traitlets>=4.2 in c:\\users\\public\\anaconda3\\lib\\site-packages (from ipython->keras-tuner) (5.0.5)\n",
      "Requirement already satisfied: parso<0.8.0,>=0.7.0 in c:\\users\\public\\anaconda3\\lib\\site-packages (from jedi>=0.16->ipython->keras-tuner) (0.7.0)\n",
      "Requirement already satisfied: wcwidth in c:\\users\\public\\anaconda3\\lib\\site-packages (from prompt-toolkit!=3.0.0,!=3.0.1,<3.1.0,>=2.0.0->ipython->keras-tuner) (0.2.5)\n",
      "Requirement already satisfied: ipython-genutils in c:\\users\\public\\anaconda3\\lib\\site-packages (from traitlets>=4.2->ipython->keras-tuner) (0.2.0)\n",
      "Requirement already satisfied: pyparsing>=2.0.2 in c:\\users\\public\\anaconda3\\lib\\site-packages (from packaging->keras-tuner) (2.4.7)\n",
      "Requirement already satisfied: idna<3,>=2.5 in c:\\users\\public\\anaconda3\\lib\\site-packages (from requests->keras-tuner) (2.10)\n",
      "Requirement already satisfied: chardet<5,>=3.0.2 in c:\\users\\tru projects\\appdata\\roaming\\python\\python38\\site-packages (from requests->keras-tuner) (3.0.4)\n",
      "Requirement already satisfied: certifi>=2017.4.17 in c:\\users\\public\\anaconda3\\lib\\site-packages (from requests->keras-tuner) (2020.12.5)\n",
      "Requirement already satisfied: urllib3<1.27,>=1.21.1 in c:\\users\\public\\anaconda3\\lib\\site-packages (from requests->keras-tuner) (1.26.4)\n",
      "Requirement already satisfied: tensorboard-data-server<0.7.0,>=0.6.0 in c:\\users\\public\\anaconda3\\lib\\site-packages (from tensorboard->keras-tuner) (0.6.1)\n",
      "Requirement already satisfied: wheel>=0.26 in c:\\users\\public\\anaconda3\\lib\\site-packages (from tensorboard->keras-tuner) (0.36.2)\n",
      "Requirement already satisfied: google-auth-oauthlib<0.5,>=0.4.1 in c:\\users\\public\\anaconda3\\lib\\site-packages (from tensorboard->keras-tuner) (0.4.6)\n",
      "Requirement already satisfied: absl-py>=0.4 in c:\\users\\public\\anaconda3\\lib\\site-packages (from tensorboard->keras-tuner) (1.2.0)\n",
      "Requirement already satisfied: protobuf<3.20,>=3.9.2 in c:\\users\\public\\anaconda3\\lib\\site-packages (from tensorboard->keras-tuner) (3.19.4)\n",
      "Requirement already satisfied: tensorboard-plugin-wit>=1.6.0 in c:\\users\\public\\anaconda3\\lib\\site-packages (from tensorboard->keras-tuner) (1.8.1)\n",
      "Requirement already satisfied: google-auth<3,>=1.6.3 in c:\\users\\public\\anaconda3\\lib\\site-packages (from tensorboard->keras-tuner) (2.9.1)\n",
      "Requirement already satisfied: werkzeug>=1.0.1 in c:\\users\\tru projects\\appdata\\roaming\\python\\python38\\site-packages (from tensorboard->keras-tuner) (2.0.3)\n",
      "Requirement already satisfied: markdown>=2.6.8 in c:\\users\\public\\anaconda3\\lib\\site-packages (from tensorboard->keras-tuner) (3.2.2)\n",
      "Requirement already satisfied: grpcio>=1.24.3 in c:\\users\\public\\anaconda3\\lib\\site-packages (from tensorboard->keras-tuner) (1.31.0)\n",
      "Requirement already satisfied: rsa<5,>=3.1.4 in c:\\users\\public\\anaconda3\\lib\\site-packages (from google-auth<3,>=1.6.3->tensorboard->keras-tuner) (4.9)\n",
      "Requirement already satisfied: cachetools<6.0,>=2.0.0 in c:\\users\\public\\anaconda3\\lib\\site-packages (from google-auth<3,>=1.6.3->tensorboard->keras-tuner) (5.2.0)\n",
      "Requirement already satisfied: six>=1.9.0 in c:\\users\\public\\anaconda3\\lib\\site-packages (from google-auth<3,>=1.6.3->tensorboard->keras-tuner) (1.15.0)\n",
      "Requirement already satisfied: pyasn1-modules>=0.2.1 in c:\\users\\public\\anaconda3\\lib\\site-packages (from google-auth<3,>=1.6.3->tensorboard->keras-tuner) (0.2.8)\n",
      "Requirement already satisfied: requests-oauthlib>=0.7.0 in c:\\users\\public\\anaconda3\\lib\\site-packages (from google-auth-oauthlib<0.5,>=0.4.1->tensorboard->keras-tuner) (1.3.1)\n",
      "Requirement already satisfied: pyasn1<0.5.0,>=0.4.6 in c:\\users\\public\\anaconda3\\lib\\site-packages (from pyasn1-modules>=0.2.1->google-auth<3,>=1.6.3->tensorboard->keras-tuner) (0.4.8)\n",
      "Requirement already satisfied: oauthlib>=3.0.0 in c:\\users\\public\\anaconda3\\lib\\site-packages (from requests-oauthlib>=0.7.0->google-auth-oauthlib<0.5,>=0.4.1->tensorboard->keras-tuner) (3.1.0)\n",
      "Installing collected packages: kt-legacy, keras-tuner\n",
      "Successfully installed keras-tuner-1.1.3 kt-legacy-1.0.4\n"
     ]
    }
   ],
   "source": [
    "!pip install keras-tuner"
   ]
  },
  {
   "cell_type": "code",
   "execution_count": 32,
   "metadata": {},
   "outputs": [
    {
     "name": "stderr",
     "output_type": "stream",
     "text": [
      "<ipython-input-32-2b705b9d0bdb>:38: DeprecationWarning: `import kerastuner` is deprecated, please use `import keras_tuner`.\n",
      "  from kerastuner import RandomSearch\n"
     ]
    }
   ],
   "source": [
    "#importing libraries for model evaluation and algorithms\n",
    "import pandas as pd\n",
    "import numpy as np\n",
    "import matplotlib.pyplot as plt\n",
    "import seaborn as sns\n",
    "import re\n",
    "import collections\n",
    "import nltk\n",
    "from sklearn import preprocessing\n",
    "from nltk.tokenize import sent_tokenize, word_tokenize\n",
    "# Packages for data preparation\n",
    "from sklearn.model_selection import train_test_split\n",
    "from nltk.corpus import stopwords\n",
    "from keras.preprocessing.text import Tokenizer\n",
    "from keras.utils.np_utils import to_categorical\n",
    "from sklearn.preprocessing import LabelEncoder\n",
    "#dl libraraies\n",
    "import keras\n",
    "from tensorflow import keras\n",
    "from tensorflow.keras.models import Sequential\n",
    "from tensorflow.keras.layers import Dense, Conv2D , MaxPool2D , Flatten , Dropout , BatchNormalization,Reshape,Dot,Concatenate,Add,Lambda\n",
    "from tensorflow.keras.preprocessing.image import ImageDataGenerator\n",
    "from tensorflow.keras.callbacks import ReduceLROnPlateau\n",
    "import cv2\n",
    "from tensorflow.keras.optimizers import Adam,SGD,Adagrad,Adadelta,RMSprop\n",
    "import os\n",
    "from tensorflow.keras.models import Model\n",
    "from tensorflow.keras.regularizers import l2\n",
    "from keras.layers.recurrent import LSTM\n",
    "from keras.preprocessing.sequence import pad_sequences\n",
    "# specifically for deeplearning.\n",
    "from tensorflow.keras.layers import Dropout, Flatten,Activation,Input,Embedding\n",
    "from tensorflow.keras.layers import Conv2D, MaxPooling2D, BatchNormalization\n",
    "# Packages for modeling\n",
    "from keras import models\n",
    "from keras import layers\n",
    "from keras import regularizers\n",
    "from kerastuner import RandomSearch\n",
    "from kerastuner.engine.hyperparameters import HyperParameters"
   ]
  },
  {
   "cell_type": "code",
   "execution_count": 33,
   "metadata": {},
   "outputs": [
    {
     "data": {
      "text/html": [
       "<div>\n",
       "<style scoped>\n",
       "    .dataframe tbody tr th:only-of-type {\n",
       "        vertical-align: middle;\n",
       "    }\n",
       "\n",
       "    .dataframe tbody tr th {\n",
       "        vertical-align: top;\n",
       "    }\n",
       "\n",
       "    .dataframe thead th {\n",
       "        text-align: right;\n",
       "    }\n",
       "</style>\n",
       "<table border=\"1\" class=\"dataframe\">\n",
       "  <thead>\n",
       "    <tr style=\"text-align: right;\">\n",
       "      <th></th>\n",
       "      <th>id</th>\n",
       "      <th>label</th>\n",
       "      <th>tweet</th>\n",
       "    </tr>\n",
       "  </thead>\n",
       "  <tbody>\n",
       "    <tr>\n",
       "      <th>0</th>\n",
       "      <td>1</td>\n",
       "      <td>0</td>\n",
       "      <td>@user when a father is dysfunctional and is s...</td>\n",
       "    </tr>\n",
       "    <tr>\n",
       "      <th>1</th>\n",
       "      <td>2</td>\n",
       "      <td>0</td>\n",
       "      <td>@user @user thanks for #lyft credit i can't us...</td>\n",
       "    </tr>\n",
       "    <tr>\n",
       "      <th>2</th>\n",
       "      <td>3</td>\n",
       "      <td>0</td>\n",
       "      <td>bihday your majesty</td>\n",
       "    </tr>\n",
       "    <tr>\n",
       "      <th>3</th>\n",
       "      <td>4</td>\n",
       "      <td>0</td>\n",
       "      <td>#model   i love u take with u all the time in ...</td>\n",
       "    </tr>\n",
       "    <tr>\n",
       "      <th>4</th>\n",
       "      <td>5</td>\n",
       "      <td>0</td>\n",
       "      <td>factsguide: society now    #motivation</td>\n",
       "    </tr>\n",
       "  </tbody>\n",
       "</table>\n",
       "</div>"
      ],
      "text/plain": [
       "   id  label                                              tweet\n",
       "0   1      0   @user when a father is dysfunctional and is s...\n",
       "1   2      0  @user @user thanks for #lyft credit i can't us...\n",
       "2   3      0                                bihday your majesty\n",
       "3   4      0  #model   i love u take with u all the time in ...\n",
       "4   5      0             factsguide: society now    #motivation"
      ]
     },
     "execution_count": 33,
     "metadata": {},
     "output_type": "execute_result"
    }
   ],
   "source": [
    "#reading the dataframe\n",
    "df=pd.read_csv('train.csv')\n",
    "df.head()"
   ]
  },
  {
   "cell_type": "code",
   "execution_count": 34,
   "metadata": {},
   "outputs": [],
   "source": [
    "#Setting parameters which will be used throughout\n",
    "num_words = 15000  # Parameter indicating the number of words we'll put in the dictionary\n",
    "val_size = 1000  # Size of the validation set\n",
    "epochs = 20  # Number of epochs we usually start to train with\n",
    "batch_size = 512  # Size of the batches used in the mini-batch gradient descent\n",
    "#Taking only two columns since it's a sentiment analysis"
   ]
  },
  {
   "cell_type": "code",
   "execution_count": 35,
   "metadata": {},
   "outputs": [
    {
     "name": "stderr",
     "output_type": "stream",
     "text": [
      "[nltk_data] Downloading package punkt to C:\\Users\\Tru\n",
      "[nltk_data]     Projects\\AppData\\Roaming\\nltk_data...\n",
      "[nltk_data]   Package punkt is already up-to-date!\n",
      "[nltk_data] Downloading package stopwords to C:\\Users\\Tru\n",
      "[nltk_data]     Projects\\AppData\\Roaming\\nltk_data...\n",
      "[nltk_data]   Package stopwords is already up-to-date!\n",
      "[nltk_data] Downloading package wordnet to C:\\Users\\Tru\n",
      "[nltk_data]     Projects\\AppData\\Roaming\\nltk_data...\n",
      "[nltk_data]   Package wordnet is already up-to-date!\n",
      "[nltk_data] Downloading package averaged_perceptron_tagger to\n",
      "[nltk_data]     C:\\Users\\Tru Projects\\AppData\\Roaming\\nltk_data...\n",
      "[nltk_data]   Unzipping taggers\\averaged_perceptron_tagger.zip.\n"
     ]
    },
    {
     "data": {
      "text/plain": [
       "True"
      ]
     },
     "execution_count": 35,
     "metadata": {},
     "output_type": "execute_result"
    }
   ],
   "source": [
    "nltk.download('punkt')\n",
    "nltk.download('stopwords')\n",
    "nltk.download('wordnet')\n",
    "nltk.download('averaged_perceptron_tagger')"
   ]
  },
  {
   "cell_type": "code",
   "execution_count": 36,
   "metadata": {},
   "outputs": [],
   "source": [
    "#tweets conssits of every document as an array of tokenized words which are later appended to docs \n",
    "tweets=[word_tokenize(tweet) for tweet in df['tweet']]\n",
    "docs=[]\n",
    "for j in range(0,len(tweets)):\n",
    "    docs.append(tweets[j])"
   ]
  },
  {
   "cell_type": "code",
   "execution_count": 37,
   "metadata": {},
   "outputs": [],
   "source": [
    "#stops included both the stopwords and punctuations\n",
    "from nltk.corpus import stopwords\n",
    "import string\n",
    "stops = set(stopwords.words('english'))\n",
    "punctuations = list(string.punctuation)\n",
    "not_list = [\"n't\", \"not\", \"no\"]\n",
    "stops.update(punctuations)\n",
    "stops.update(not_list)"
   ]
  },
  {
   "cell_type": "code",
   "execution_count": 38,
   "metadata": {},
   "outputs": [],
   "source": [
    "#to get the simple pos(part of speech) tag\n",
    "from nltk.corpus import wordnet\n",
    "def get_simple_pos(tag):\n",
    "    if tag.startswith('J'):\n",
    "        return wordnet.ADJ\n",
    "    elif tag.startswith('V'):\n",
    "        return wordnet.VERB\n",
    "    elif tag.startswith('N'):\n",
    "        return wordnet.NOUN\n",
    "    elif tag.startswith('R'):\n",
    "        return wordnet.ADV\n",
    "    else:\n",
    "        return wordnet.NOUN"
   ]
  },
  {
   "cell_type": "code",
   "execution_count": 39,
   "metadata": {},
   "outputs": [],
   "source": [
    "#to get the pos tag for a word\n",
    "from nltk import pos_tag\n",
    "# now we are going to clean our data \n",
    "# we will remove stopwords and punctuations and lemmatize each document\n",
    "from nltk.stem import WordNetLemmatizer\n",
    "lemmatizer=WordNetLemmatizer()\n",
    "def clean(words):\n",
    "    output=[]\n",
    "    for word in words:\n",
    "        if word.lower() not in stops or word.lower() in not_list:\n",
    "            pos=pos_tag(word)\n",
    "            clean_word=lemmatizer.lemmatize(word,pos=get_simple_pos(pos[0][1]))\n",
    "            output.append(clean_word.lower())\n",
    "    str1=\" \".join(output).encode('utf-8')        \n",
    "    return str1\n",
    "#docs=[ clean(doc) for doc in docs]      "
   ]
  },
  {
   "cell_type": "code",
   "execution_count": 40,
   "metadata": {},
   "outputs": [
    {
     "data": {
      "text/html": [
       "<div>\n",
       "<style scoped>\n",
       "    .dataframe tbody tr th:only-of-type {\n",
       "        vertical-align: middle;\n",
       "    }\n",
       "\n",
       "    .dataframe tbody tr th {\n",
       "        vertical-align: top;\n",
       "    }\n",
       "\n",
       "    .dataframe thead th {\n",
       "        text-align: right;\n",
       "    }\n",
       "</style>\n",
       "<table border=\"1\" class=\"dataframe\">\n",
       "  <thead>\n",
       "    <tr style=\"text-align: right;\">\n",
       "      <th></th>\n",
       "      <th>tweet</th>\n",
       "      <th>label</th>\n",
       "    </tr>\n",
       "  </thead>\n",
       "  <tbody>\n",
       "    <tr>\n",
       "      <th>0</th>\n",
       "      <td>@user when a father is dysfunctional and is s...</td>\n",
       "      <td>0</td>\n",
       "    </tr>\n",
       "    <tr>\n",
       "      <th>1</th>\n",
       "      <td>@user @user thanks for #lyft credit i can't us...</td>\n",
       "      <td>0</td>\n",
       "    </tr>\n",
       "    <tr>\n",
       "      <th>2</th>\n",
       "      <td>bihday your majesty</td>\n",
       "      <td>0</td>\n",
       "    </tr>\n",
       "    <tr>\n",
       "      <th>3</th>\n",
       "      <td>#model   i love u take with u all the time in ...</td>\n",
       "      <td>0</td>\n",
       "    </tr>\n",
       "    <tr>\n",
       "      <th>4</th>\n",
       "      <td>factsguide: society now    #motivation</td>\n",
       "      <td>0</td>\n",
       "    </tr>\n",
       "  </tbody>\n",
       "</table>\n",
       "</div>"
      ],
      "text/plain": [
       "                                               tweet  label\n",
       "0   @user when a father is dysfunctional and is s...      0\n",
       "1  @user @user thanks for #lyft credit i can't us...      0\n",
       "2                                bihday your majesty      0\n",
       "3  #model   i love u take with u all the time in ...      0\n",
       "4             factsguide: society now    #motivation      0"
      ]
     },
     "execution_count": 40,
     "metadata": {},
     "output_type": "execute_result"
    }
   ],
   "source": [
    "df=df[['tweet','label']]\n",
    "df.head()"
   ]
  },
  {
   "cell_type": "code",
   "execution_count": 41,
   "metadata": {},
   "outputs": [],
   "source": [
    "#taking variables to be used for train test split as X,y\n",
    "X,Y=df['tweet'].values,pd.get_dummies(df.label.values)"
   ]
  },
  {
   "cell_type": "code",
   "execution_count": 42,
   "metadata": {},
   "outputs": [
    {
     "name": "stdout",
     "output_type": "stream",
     "text": [
      "Fitted tokenizer on 31962 documents\n",
      "15000 words in dictionary\n",
      "Top 5 most common words are: [('user', 17577), ('the', 10165), ('to', 9833), ('a', 6481), ('i', 6170)]\n"
     ]
    }
   ],
   "source": [
    "#using tokenizers to create the tokens having no of words=15000(num_words)\n",
    "tk = Tokenizer(num_words=num_words,\n",
    "               filters='!\"#$%&()*+,-./:;<=>?@[\\\\]^_`{|}~\\t\\n',\n",
    "               lower=True,\n",
    "               split=\" \")\n",
    "#Complete data is tokenized to vectors and padding is done using zeros to match its length to the largest text in the dataset.\n",
    "tk.fit_on_texts(X)\n",
    "X = tk.texts_to_sequences(X)\n",
    "X = pad_sequences(X)\n",
    "#print(X[:2])\n",
    "print('Fitted tokenizer on {} documents'.format(tk.document_count))\n",
    "print('{} words in dictionary'.format(tk.num_words))\n",
    "print('Top 5 most common words are:', collections.Counter(tk.word_counts).most_common(5))"
   ]
  },
  {
   "cell_type": "code",
   "execution_count": 43,
   "metadata": {},
   "outputs": [],
   "source": [
    "import pickle\n",
    "pickle.dump(tk,open('transform2.pkl','wb'))\n",
    "#files.download('transform2.pkl')"
   ]
  },
  {
   "cell_type": "code",
   "execution_count": 44,
   "metadata": {},
   "outputs": [
    {
     "name": "stdout",
     "output_type": "stream",
     "text": [
      "# Train data samples: (25569, 39)\n",
      "# Test data samples: (6393, 39)\n"
     ]
    }
   ],
   "source": [
    "#train test split\n",
    "X_train, X_test, Y_train, Y_test = train_test_split(X,Y, test_size=0.2, random_state=42)\n",
    "print('# Train data samples:', X_train.shape)\n",
    "print('# Test data samples:', X_test.shape)"
   ]
  },
  {
   "cell_type": "code",
   "execution_count": 45,
   "metadata": {},
   "outputs": [
    {
     "name": "stdout",
     "output_type": "stream",
     "text": [
      "Shape of validation set: (2557, 39)\n"
     ]
    }
   ],
   "source": [
    "#getting validation data as a part of training data\n",
    "X_train_rest, X_valid, Y_train_rest, Y_valid = train_test_split(X_train,Y_train, test_size=0.1, random_state=37)\n",
    "print('Shape of validation set:',X_valid.shape)"
   ]
  },
  {
   "cell_type": "code",
   "execution_count": 46,
   "metadata": {},
   "outputs": [],
   "source": [
    "#Function defined to test the models in the test set\n",
    "def test_model(model, epoch_stop):\n",
    "    model.fit(X_test\n",
    "              , Y_test\n",
    "              , epochs=epoch_stop\n",
    "              , batch_size=batch_size\n",
    "              , verbose=0)\n",
    "    results = model.evaluate(X_test, Y_test)\n",
    "    \n",
    "    return results"
   ]
  },
  {
   "cell_type": "markdown",
   "metadata": {},
   "source": [
    "# LSTM"
   ]
  },
  {
   "cell_type": "code",
   "execution_count": 47,
   "metadata": {},
   "outputs": [
    {
     "name": "stdout",
     "output_type": "stream",
     "text": [
      "Model: \"sequential\"\n",
      "_________________________________________________________________\n",
      "Layer (type)                 Output Shape              Param #   \n",
      "=================================================================\n",
      "embedding (Embedding)        (None, 39, 128)           1920000   \n",
      "_________________________________________________________________\n",
      "lstm_1 (LSTM)                (None, 196)               254800    \n",
      "_________________________________________________________________\n",
      "dense_1 (Dense)              (None, 32)                6304      \n",
      "_________________________________________________________________\n",
      "dropout_1 (Dropout)          (None, 32)                0         \n",
      "_________________________________________________________________\n",
      "dense_2 (Dense)              (None, 2)                 66        \n",
      "=================================================================\n",
      "Total params: 2,181,170\n",
      "Trainable params: 2,181,170\n",
      "Non-trainable params: 0\n",
      "_________________________________________________________________\n",
      "None\n"
     ]
    }
   ],
   "source": [
    "embed_dim = 128 #dimension of the word embedding vector for each word in a sequence \n",
    "lstm_out = 196  #no of lstm layers\n",
    "lstm_model = Sequential()\n",
    "lstm_model.add(Embedding(num_words, embed_dim,input_length = X_train.shape[1]))\n",
    "#Adding dropout\n",
    "lstm_model.add(LSTM(lstm_out, dropout=0.2, recurrent_dropout=0.2))\n",
    "#Adding a regularized dense layer\n",
    "lstm_model.add(layers.Dense(32,kernel_regularizer=regularizers.l2(0.001),activation='relu'))\n",
    "lstm_model.add(layers.Dropout(0.5))\n",
    "lstm_model.add(Dense(2,activation='softmax'))\n",
    "lstm_model.compile(loss = 'categorical_crossentropy', optimizer='adam',metrics = ['accuracy'])\n",
    "print(lstm_model.summary())"
   ]
  },
  {
   "cell_type": "code",
   "execution_count": 48,
   "metadata": {},
   "outputs": [
    {
     "name": "stdout",
     "output_type": "stream",
     "text": [
      "Epoch 1/20\n",
      "45/45 [==============================] - 25s 566ms/step - loss: 0.3685 - accuracy: 0.9170 - val_loss: 0.2697 - val_accuracy: 0.9308\n",
      "Epoch 2/20\n",
      "45/45 [==============================] - 24s 537ms/step - loss: 0.2063 - accuracy: 0.9438 - val_loss: 0.1432 - val_accuracy: 0.9589\n",
      "Epoch 3/20\n",
      "45/45 [==============================] - 25s 548ms/step - loss: 0.1105 - accuracy: 0.9729 - val_loss: 0.1307 - val_accuracy: 0.9632\n",
      "Epoch 4/20\n",
      "45/45 [==============================] - 25s 553ms/step - loss: 0.0721 - accuracy: 0.9834 - val_loss: 0.1429 - val_accuracy: 0.9664\n",
      "Epoch 5/20\n",
      "45/45 [==============================] - 25s 557ms/step - loss: 0.0531 - accuracy: 0.9884 - val_loss: 0.1495 - val_accuracy: 0.9554\n",
      "Epoch 6/20\n",
      "45/45 [==============================] - 25s 557ms/step - loss: 0.0396 - accuracy: 0.9928 - val_loss: 0.1651 - val_accuracy: 0.9593\n",
      "Epoch 7/20\n",
      "45/45 [==============================] - 26s 575ms/step - loss: 0.0294 - accuracy: 0.9953 - val_loss: 0.1946 - val_accuracy: 0.9539\n",
      "Epoch 8/20\n",
      "45/45 [==============================] - 25s 560ms/step - loss: 0.0250 - accuracy: 0.9957 - val_loss: 0.2302 - val_accuracy: 0.9625\n",
      "Epoch 9/20\n",
      "45/45 [==============================] - 25s 559ms/step - loss: 0.0203 - accuracy: 0.9970 - val_loss: 0.2088 - val_accuracy: 0.9562\n",
      "Epoch 10/20\n",
      "45/45 [==============================] - 25s 566ms/step - loss: 0.0179 - accuracy: 0.9970 - val_loss: 0.2342 - val_accuracy: 0.9542\n",
      "Epoch 11/20\n",
      "45/45 [==============================] - 25s 562ms/step - loss: 0.0153 - accuracy: 0.9976 - val_loss: 0.2266 - val_accuracy: 0.9550\n",
      "Epoch 12/20\n",
      "45/45 [==============================] - 25s 564ms/step - loss: 0.0137 - accuracy: 0.9983 - val_loss: 0.2750 - val_accuracy: 0.9566\n",
      "Epoch 13/20\n",
      "45/45 [==============================] - 26s 570ms/step - loss: 0.0127 - accuracy: 0.9979 - val_loss: 0.2433 - val_accuracy: 0.9558\n",
      "Epoch 14/20\n",
      "45/45 [==============================] - 27s 594ms/step - loss: 0.0111 - accuracy: 0.9982 - val_loss: 0.2598 - val_accuracy: 0.9511\n",
      "Epoch 15/20\n",
      "45/45 [==============================] - 27s 590ms/step - loss: 0.0095 - accuracy: 0.9987 - val_loss: 0.2820 - val_accuracy: 0.9554\n",
      "Epoch 16/20\n",
      "45/45 [==============================] - 26s 586ms/step - loss: 0.0083 - accuracy: 0.9990 - val_loss: 0.2913 - val_accuracy: 0.9511\n",
      "Epoch 17/20\n",
      "45/45 [==============================] - 25s 559ms/step - loss: 0.0069 - accuracy: 0.9991 - val_loss: 0.2641 - val_accuracy: 0.9531\n",
      "Epoch 18/20\n",
      "45/45 [==============================] - 25s 560ms/step - loss: 0.0091 - accuracy: 0.9984 - val_loss: 0.2337 - val_accuracy: 0.9546\n",
      "Epoch 19/20\n",
      "45/45 [==============================] - 25s 560ms/step - loss: 0.0081 - accuracy: 0.9987 - val_loss: 0.3049 - val_accuracy: 0.9570\n",
      "Epoch 20/20\n",
      "45/45 [==============================] - 25s 558ms/step - loss: 0.0082 - accuracy: 0.9987 - val_loss: 0.2781 - val_accuracy: 0.9542\n"
     ]
    }
   ],
   "source": [
    "#model trained on the training data and taking validation data into account to avoid overfitting for 4 epochs \n",
    "history_LSTM=lstm_model.fit(X_train_rest, Y_train_rest, epochs = 20, batch_size=batch_size,validation_data=(X_valid, Y_valid),verbose = 1)"
   ]
  },
  {
   "cell_type": "code",
   "execution_count": 53,
   "metadata": {},
   "outputs": [
    {
     "data": {
      "image/png": "[encoded data removed]",
      "text/plain": [
       "<Figure size 1440x720 with 2 Axes>"
      ]
     },
     "metadata": {
      "needs_background": "light"
     },
     "output_type": "display_data"
    }
   ],
   "source": [
    "import matplotlib.pyplot as plt\n",
    "\n",
    "x=history_LSTM\n",
    "plt.figure(figsize=(20,10))\n",
    "plt.subplot(1, 2, 1)\n",
    "plt.suptitle('Optimizer : adam', fontsize=10)\n",
    "plt.ylabel('Loss', fontsize=16)\n",
    "plt.plot(x.history['loss'], label='Training Loss')\n",
    "plt.plot(x.history['val_loss'], label='Validation Loss')\n",
    "plt.legend(loc='upper right')\n",
    "\n",
    "plt.subplot(1, 2, 2)\n",
    "plt.ylabel('Accuracy', fontsize=16)\n",
    "plt.plot(x.history['accuracy'], label='Training Accuracy')\n",
    "plt.plot(x.history['val_accuracy'], label='Validation Accuracy')\n",
    "plt.legend(loc='lower right')\n",
    "plt.show()"
   ]
  },
  {
   "cell_type": "code",
   "execution_count": 49,
   "metadata": {},
   "outputs": [
    {
     "name": "stdout",
     "output_type": "stream",
     "text": [
      "200/200 [==============================] - 2s 10ms/step - loss: 0.0349 - accuracy: 0.9900\n",
      "/n\n",
      "Test accuracy of lstm model: 99.00%\n"
     ]
    }
   ],
   "source": [
    "#prediction by our lstm model on the test dataset\n",
    "lstm_results = test_model(lstm_model, 3)\n",
    "print('/n')\n",
    "print('Test accuracy of lstm model: {0:.2f}%'.format(lstm_results[1]*100))"
   ]
  },
  {
   "cell_type": "code",
   "execution_count": 50,
   "metadata": {},
   "outputs": [],
   "source": [
    "lstm_model.save('lstm_model.h5')"
   ]
  },
  {
   "cell_type": "markdown",
   "metadata": {},
   "source": [
    "# GRU"
   ]
  },
  {
   "cell_type": "code",
   "execution_count": 51,
   "metadata": {},
   "outputs": [],
   "source": [
    "from tensorflow.keras.layers import GRU, Dense, Embedding, Dropout"
   ]
  },
  {
   "cell_type": "code",
   "execution_count": 52,
   "metadata": {},
   "outputs": [
    {
     "name": "stdout",
     "output_type": "stream",
     "text": [
      "Model: \"sequential_1\"\n",
      "_________________________________________________________________\n",
      "Layer (type)                 Output Shape              Param #   \n",
      "=================================================================\n",
      "embedding_1 (Embedding)      (None, 39, 128)           1920000   \n",
      "_________________________________________________________________\n",
      "gru (GRU)                    (None, 128)               99072     \n",
      "_________________________________________________________________\n",
      "dropout_2 (Dropout)          (None, 128)               0         \n",
      "_________________________________________________________________\n",
      "dense_3 (Dense)              (None, 2)                 258       \n",
      "=================================================================\n",
      "Total params: 2,019,330\n",
      "Trainable params: 2,019,330\n",
      "Non-trainable params: 0\n",
      "_________________________________________________________________\n",
      "None\n"
     ]
    }
   ],
   "source": [
    "embed_dim = 128\n",
    "gru_model = Sequential()\n",
    "gru_model.add(Embedding(num_words, embed_dim,input_length = X_train.shape[1]))\n",
    "gru_model.add(GRU(128, return_sequences=False))\n",
    "gru_model.add(Dropout(0.5))\n",
    "gru_model.add(Dense(2, activation = 'sigmoid'))\n",
    "gru_model.compile(loss='binary_crossentropy', optimizer='adam', metrics=['accuracy'])\n",
    "print(gru_model.summary())"
   ]
  },
  {
   "cell_type": "code",
   "execution_count": 54,
   "metadata": {},
   "outputs": [
    {
     "name": "stdout",
     "output_type": "stream",
     "text": [
      "Epoch 1/20\n",
      "45/45 [==============================] - 10s 215ms/step - loss: 0.3635 - accuracy: 0.9174 - val_loss: 0.2014 - val_accuracy: 0.9316\n",
      "Epoch 2/20\n",
      "45/45 [==============================] - 10s 214ms/step - loss: 0.1468 - accuracy: 0.9463 - val_loss: 0.1210 - val_accuracy: 0.9542\n",
      "Epoch 3/20\n",
      "45/45 [==============================] - 9s 205ms/step - loss: 0.0755 - accuracy: 0.9735 - val_loss: 0.1055 - val_accuracy: 0.9589\n",
      "Epoch 4/20\n",
      "45/45 [==============================] - 9s 209ms/step - loss: 0.0467 - accuracy: 0.9849 - val_loss: 0.1152 - val_accuracy: 0.9597\n",
      "Epoch 5/20\n",
      "45/45 [==============================] - 9s 204ms/step - loss: 0.0295 - accuracy: 0.9905 - val_loss: 0.1283 - val_accuracy: 0.9566\n",
      "Epoch 6/20\n",
      "45/45 [==============================] - 9s 201ms/step - loss: 0.0207 - accuracy: 0.9940 - val_loss: 0.1444 - val_accuracy: 0.9578\n",
      "Epoch 7/20\n",
      "45/45 [==============================] - 9s 200ms/step - loss: 0.0144 - accuracy: 0.9960 - val_loss: 0.1714 - val_accuracy: 0.9523\n",
      "Epoch 8/20\n",
      "45/45 [==============================] - 9s 200ms/step - loss: 0.0117 - accuracy: 0.9970 - val_loss: 0.2077 - val_accuracy: 0.9582\n",
      "Epoch 9/20\n",
      "45/45 [==============================] - 9s 199ms/step - loss: 0.0077 - accuracy: 0.9983 - val_loss: 0.2137 - val_accuracy: 0.9585\n",
      "Epoch 10/20\n",
      "45/45 [==============================] - 9s 200ms/step - loss: 0.0058 - accuracy: 0.9985 - val_loss: 0.2321 - val_accuracy: 0.9527\n",
      "Epoch 11/20\n",
      "45/45 [==============================] - 9s 199ms/step - loss: 0.0047 - accuracy: 0.9987 - val_loss: 0.2565 - val_accuracy: 0.9535\n",
      "Epoch 12/20\n",
      "45/45 [==============================] - 9s 200ms/step - loss: 0.0050 - accuracy: 0.9986 - val_loss: 0.2594 - val_accuracy: 0.9488\n",
      "Epoch 13/20\n",
      "45/45 [==============================] - 9s 199ms/step - loss: 0.0041 - accuracy: 0.9988 - val_loss: 0.2776 - val_accuracy: 0.9554\n",
      "Epoch 14/20\n",
      "45/45 [==============================] - 9s 200ms/step - loss: 0.0041 - accuracy: 0.9989 - val_loss: 0.2889 - val_accuracy: 0.9519\n",
      "Epoch 15/20\n",
      "45/45 [==============================] - 9s 200ms/step - loss: 0.0037 - accuracy: 0.9989 - val_loss: 0.2686 - val_accuracy: 0.9535\n",
      "Epoch 16/20\n",
      "45/45 [==============================] - 9s 200ms/step - loss: 0.0030 - accuracy: 0.9995 - val_loss: 0.3059 - val_accuracy: 0.9550\n",
      "Epoch 17/20\n",
      "45/45 [==============================] - 9s 200ms/step - loss: 0.0025 - accuracy: 0.9994 - val_loss: 0.3030 - val_accuracy: 0.9519\n",
      "Epoch 18/20\n",
      "45/45 [==============================] - 9s 199ms/step - loss: 0.0021 - accuracy: 0.9996 - val_loss: 0.3155 - val_accuracy: 0.9527\n",
      "Epoch 19/20\n",
      "45/45 [==============================] - 9s 200ms/step - loss: 0.0017 - accuracy: 0.9996 - val_loss: 0.3135 - val_accuracy: 0.9550\n",
      "Epoch 20/20\n",
      "45/45 [==============================] - 9s 199ms/step - loss: 0.0034 - accuracy: 0.9988 - val_loss: 0.3493 - val_accuracy: 0.9523\n"
     ]
    }
   ],
   "source": [
    "#model trained on the training data and taking validation data into account to avoid overfitting for 4 epochs \n",
    "history_GRU=gru_model.fit(X_train_rest, Y_train_rest, epochs = 20, batch_size=batch_size,validation_data=(X_valid, Y_valid),verbose = 1)"
   ]
  },
  {
   "cell_type": "code",
   "execution_count": null,
   "metadata": {},
   "outputs": [],
   "source": []
  }
 ],
 "metadata": {
  "kernelspec": {
   "display_name": "Python 3",
   "language": "python",
   "name": "python3"
  },
  "language_info": {
   "codemirror_mode": {
    "name": "ipython",
    "version": 3
   },
   "file_extension": ".py",
   "mimetype": "text/x-python",
   "name": "python",
   "nbconvert_exporter": "python",
   "pygments_lexer": "ipython3",
   "version": "3.8.8"
  },
  "vscode": {
   "interpreter": {
    "hash": "7b9bf3d753fefe854781e52229fcc2b6d37fd5cec0eed166290fc2ac2cd3389d"
   }
  }
 },
 "nbformat": 4,
 "nbformat_minor": 4
}
